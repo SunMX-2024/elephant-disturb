{
 "cells": [
  {
   "cell_type": "code",
   "execution_count": 1,
   "id": "1ef25458",
   "metadata": {
    "ExecuteTime": {
     "end_time": "2024-08-20T05:58:08.094474Z",
     "start_time": "2024-08-20T05:57:55.291244Z"
    }
   },
   "outputs": [],
   "source": [
    "import numpy as np\n",
    "import pandas as pd\n",
    "from sklearn import metrics\n",
    "from openpyxl import load_workbook\n",
    "from sklearn.tree import export_graphviz\n",
    "from sklearn.ensemble import RandomForestRegressor\n",
    "from netCDF4 import Dataset\n",
    "import matplotlib.pyplot as plt\n",
    "import multiprocessing\n",
    "import os\n",
    "import time\n",
    "import gloce as gc\n",
    "from osgeo import gdal\n",
    "from osgeo import gdalconst\n",
    "from mpl_toolkits.basemap import Basemap\n",
    "from glob import glob\n",
    "from math import ceil\n",
    "import seaborn as sns\n",
    "from scipy import stats\n",
    "from scipy.stats import gaussian_kde\n",
    "#return im_data, im_width, im_height, im_geotrans, im_proj\n",
    "def read_img(filename):\n",
    "    dt = gdal.Open(filename)\n",
    "    im_width = dt.RasterXSize\n",
    "    im_height = dt.RasterYSize\n",
    "    im_bands = dt.RasterCount\n",
    "    im_geotrans = dt.GetGeoTransform()\n",
    "    im_proj = dt.GetProjection()\n",
    "    im_data = dt.ReadAsArray(0,0,im_width,im_height)\n",
    "    return im_data, im_width, im_height, im_geotrans, im_proj\n",
    "def write_img(filename, im_proj, im_geotrans, im_data):\n",
    "    if 'int8' in im_data.dtype.name:\n",
    "        datatype = gdal.GDT_Byte\n",
    "    elif 'int16' in im_data.dtype.name:\n",
    "        datatype = gdal.GDT_UInt16\n",
    "    else:\n",
    "        datatype = gdal.GDT_Float32\n",
    "    if len(im_data.shape) == 3:\n",
    "        im_bands, im_height, im_width = im_data.shape\n",
    "    else:\n",
    "        im_bands, (im_height, im_width) = 1, im_data.shape\n",
    "    driver = gdal.GetDriverByName(\"GTiff\")\n",
    "    dataset = driver.Create(filename, im_width, im_height, im_bands, datatype)\n",
    "    dataset.SetGeoTransform(im_geotrans)\n",
    "    dataset.SetProjection(im_proj)\n",
    "    if im_bands == 1:\n",
    "        dataset.GetRasterBand(1).WriteArray(im_data)\n",
    "    else:\n",
    "        for i in range(im_bands):\n",
    "            dataset.GetRasterBand(i + 1).WriteArray(im_data[i])\n",
    "spei_path='//weili/User2/mxsun/CESS_230818/SPEI_highRes/'"
   ]
  },
  {
   "cell_type": "code",
   "execution_count": 3,
   "id": "17a70bab",
   "metadata": {
    "ExecuteTime": {
     "end_time": "2024-08-20T06:00:12.973482Z",
     "start_time": "2024-08-20T06:00:11.907616Z"
    }
   },
   "outputs": [],
   "source": [
    "deaa=read_img(spei_path+'mask_deaa_240722.tif')[0]\n",
    "daa=read_img(spei_path+'mask_daa_240722.tif')[0]\n",
    "deaa[np.isnan(deaa)]=0\n",
    "daa[np.isnan(daa)]=0"
   ]
  },
  {
   "cell_type": "code",
   "execution_count": 7,
   "id": "ab084340",
   "metadata": {
    "ExecuteTime": {
     "end_time": "2024-08-20T06:02:05.954253Z",
     "start_time": "2024-08-20T06:02:05.826296Z"
    }
   },
   "outputs": [
    {
     "data": {
      "text/plain": [
       "array([[0., 0., 0., ..., 0., 0., 0.],\n",
       "       [0., 0., 0., ..., 0., 0., 0.],\n",
       "       [0., 0., 0., ..., 0., 0., 0.],\n",
       "       ...,\n",
       "       [0., 0., 0., ..., 0., 0., 0.],\n",
       "       [0., 0., 0., ..., 0., 0., 0.],\n",
       "       [0., 0., 0., ..., 0., 0., 0.]], dtype=float32)"
      ]
     },
     "execution_count": 7,
     "metadata": {},
     "output_type": "execute_result"
    }
   ],
   "source": [
    "area=deaa+daa\n",
    "area"
   ]
  },
  {
   "cell_type": "code",
   "execution_count": 8,
   "id": "033a7cc0",
   "metadata": {
    "ExecuteTime": {
     "end_time": "2024-08-20T06:02:09.647728Z",
     "start_time": "2024-08-20T06:02:09.550759Z"
    }
   },
   "outputs": [
    {
     "data": {
      "text/plain": [
       "array([[0, 0, 0, ..., 0, 0, 0],\n",
       "       [0, 0, 0, ..., 0, 0, 0],\n",
       "       [0, 0, 0, ..., 0, 0, 0],\n",
       "       ...,\n",
       "       [0, 0, 0, ..., 0, 0, 0],\n",
       "       [0, 0, 0, ..., 0, 0, 0],\n",
       "       [0, 0, 0, ..., 0, 0, 0]])"
      ]
     },
     "execution_count": 8,
     "metadata": {},
     "output_type": "execute_result"
    }
   ],
   "source": [
    "area.astype(int)"
   ]
  },
  {
   "cell_type": "code",
   "execution_count": 10,
   "id": "dd493845",
   "metadata": {
    "ExecuteTime": {
     "end_time": "2024-08-20T06:03:21.372392Z",
     "start_time": "2024-08-20T06:03:09.941149Z"
    }
   },
   "outputs": [],
   "source": [
    "dt=read_img(spei_path+'mask_deaa_240722.tif')\n",
    "write_img(spei_path+'areas_240820.tif',dt[4],dt[3],area)"
   ]
  },
  {
   "cell_type": "code",
   "execution_count": 11,
   "id": "2f5c13c5",
   "metadata": {
    "ExecuteTime": {
     "end_time": "2024-08-20T06:40:41.360454Z",
     "start_time": "2024-08-20T06:40:41.350429Z"
    }
   },
   "outputs": [
    {
     "data": {
      "text/plain": [
       "(6500, 7900)"
      ]
     },
     "execution_count": 11,
     "metadata": {},
     "output_type": "execute_result"
    }
   ],
   "source": [
    "area.shape"
   ]
  },
  {
   "cell_type": "code",
   "execution_count": null,
   "id": "24175762",
   "metadata": {},
   "outputs": [],
   "source": [
    "#1°,(65,79)\n",
    "pt=np.zeros((65,79))\n"
   ]
  }
 ],
 "metadata": {
  "kernelspec": {
   "display_name": "Python 3 (ipykernel)",
   "language": "python",
   "name": "python3"
  },
  "language_info": {
   "codemirror_mode": {
    "name": "ipython",
    "version": 3
   },
   "file_extension": ".py",
   "mimetype": "text/x-python",
   "name": "python",
   "nbconvert_exporter": "python",
   "pygments_lexer": "ipython3",
   "version": "3.10.6"
  },
  "toc": {
   "base_numbering": 1,
   "nav_menu": {},
   "number_sections": true,
   "sideBar": true,
   "skip_h1_title": false,
   "title_cell": "Table of Contents",
   "title_sidebar": "Contents",
   "toc_cell": false,
   "toc_position": {},
   "toc_section_display": true,
   "toc_window_display": false
  },
  "varInspector": {
   "cols": {
    "lenName": 16,
    "lenType": 16,
    "lenVar": 40
   },
   "kernels_config": {
    "python": {
     "delete_cmd_postfix": "",
     "delete_cmd_prefix": "del ",
     "library": "var_list.py",
     "varRefreshCmd": "print(var_dic_list())"
    },
    "r": {
     "delete_cmd_postfix": ") ",
     "delete_cmd_prefix": "rm(",
     "library": "var_list.r",
     "varRefreshCmd": "cat(var_dic_list()) "
    }
   },
   "types_to_exclude": [
    "module",
    "function",
    "builtin_function_or_method",
    "instance",
    "_Feature"
   ],
   "window_display": false
  }
 },
 "nbformat": 4,
 "nbformat_minor": 5
}
