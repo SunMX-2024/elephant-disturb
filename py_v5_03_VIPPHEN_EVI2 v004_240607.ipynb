{
 "cells": [
  {
   "cell_type": "code",
   "execution_count": 4,
   "id": "37a7395a",
   "metadata": {
    "ExecuteTime": {
     "end_time": "2024-06-07T09:43:49.985034Z",
     "start_time": "2024-06-07T09:43:49.959042Z"
    }
   },
   "outputs": [],
   "source": [
    "import numpy as np\n",
    "import pandas as pd\n",
    "from sklearn import metrics\n",
    "from openpyxl import load_workbook\n",
    "from sklearn.tree import export_graphviz\n",
    "from sklearn.ensemble import RandomForestRegressor\n",
    "from netCDF4 import Dataset\n",
    "import matplotlib.pyplot as plt\n",
    "import multiprocessing\n",
    "import os\n",
    "import time\n",
    "import gloce as gc\n",
    "from osgeo import gdal\n",
    "from osgeo import gdalconst\n",
    "from mpl_toolkits.basemap import Basemap\n",
    "from glob import glob\n",
    "from math import ceil\n",
    "import seaborn as sns\n",
    "from scipy import stats\n",
    "from scipy.stats import gaussian_kde\n",
    "#return im_data, im_width, im_height, im_geotrans, im_proj\n",
    "def read_img(filename):\n",
    "    dt = gdal.Open(filename)\n",
    "    im_width = dt.RasterXSize\n",
    "    im_height = dt.RasterYSize\n",
    "    im_bands = dt.RasterCount\n",
    "    im_geotrans = dt.GetGeoTransform()\n",
    "    im_proj = dt.GetProjection()\n",
    "    im_data = dt.ReadAsArray(0,0,im_width,im_height)\n",
    "    return im_data, im_width, im_height, im_geotrans, im_proj\n",
    "def write_img(filename, im_proj, im_geotrans, im_data):\n",
    "    if 'int8' in im_data.dtype.name:\n",
    "        datatype = gdal.GDT_Byte\n",
    "    elif 'int16' in im_data.dtype.name:\n",
    "        datatype = gdal.GDT_UInt16\n",
    "    else:\n",
    "        datatype = gdal.GDT_Float32\n",
    "    if len(im_data.shape) == 3:\n",
    "        im_bands, im_height, im_width = im_data.shape\n",
    "    else:\n",
    "        im_bands, (im_height, im_width) = 1, im_data.shape\n",
    "    driver = gdal.GetDriverByName(\"GTiff\")\n",
    "    dataset = driver.Create(filename, im_width, im_height, im_bands, datatype)\n",
    "    dataset.SetGeoTransform(im_geotrans)\n",
    "    dataset.SetProjection(im_proj)\n",
    "    if im_bands == 1:\n",
    "        dataset.GetRasterBand(1).WriteArray(im_data)\n",
    "    else:\n",
    "        for i in range(im_bands):\n",
    "            dataset.GetRasterBand(i + 1).WriteArray(im_data[i])\n",
    "spei_path='//weili/User2/mxsun/CESS_230818/SPEI_highRes/'\n",
    "sm_path='//weili/User2/mxsun/CESS_230818/SPEI_highRes/RF/'\n",
    "soil_path='//weili/User2/mxsun/CESS_230818/SPEI_highRes/RF/'\n",
    "drv_path='//weili/User2/mxsun/CESS_230818/Pattern_drive/'\n",
    "season_path='//weili/User2/mxsun/CESS_230818/Resistance_monthly/growth_season/'"
   ]
  },
  {
   "cell_type": "code",
   "execution_count": 2,
   "id": "ee995a98",
   "metadata": {
    "ExecuteTime": {
     "end_time": "2024-06-07T09:40:23.455683Z",
     "start_time": "2024-06-07T09:40:23.432690Z"
    }
   },
   "outputs": [
    {
     "data": {
      "text/plain": [
       "'\\n2012-2013三个map\\n'"
      ]
     },
     "execution_count": 2,
     "metadata": {},
     "output_type": "execute_result"
    }
   ],
   "source": [
    "\"\"\"\n",
    "2012-2013三个map\n",
    "start取最小值\n",
    "end取最大值\n",
    "\"\"\""
   ]
  },
  {
   "cell_type": "markdown",
   "id": "c44ffb19",
   "metadata": {},
   "source": [
    "# growth season data"
   ]
  },
  {
   "cell_type": "code",
   "execution_count": 6,
   "id": "b93312d5",
   "metadata": {
    "ExecuteTime": {
     "end_time": "2024-06-07T09:45:23.611650Z",
     "start_time": "2024-06-07T09:45:22.378640Z"
    }
   },
   "outputs": [
    {
     "data": {
      "text/plain": [
       "(-2, 710)"
      ]
     },
     "execution_count": 6,
     "metadata": {},
     "output_type": "execute_result"
    }
   ],
   "source": [
    "gs_12_start=read_img(season_path+'VIPPHEN_EVI2_2012_start.tif')[0]\n",
    "gs_13_start=read_img(season_path+'VIPPHEN_EVI2_2013_start.tif')[0]\n",
    "gs_14_start=read_img(season_path+'VIPPHEN_EVI2_2014_start.tif')[0]\n",
    "\n",
    "gs_12_end=read_img(season_path+'VIPPHEN_EVI2_2012_end.tif')[0]\n",
    "gs_13_end=read_img(season_path+'VIPPHEN_EVI2_2013_end.tif')[0]\n",
    "gs_14_end=read_img(season_path+'VIPPHEN_EVI2_2014_end.tif')[0]\n",
    "\n",
    "np.min(gs_12_start),np.max(gs_12_start)"
   ]
  },
  {
   "cell_type": "code",
   "execution_count": 9,
   "id": "418e3d6f",
   "metadata": {
    "ExecuteTime": {
     "end_time": "2024-06-07T09:49:57.051365Z",
     "start_time": "2024-06-07T09:49:55.533581Z"
    }
   },
   "outputs": [
    {
     "name": "stderr",
     "output_type": "stream",
     "text": [
      "C:\\Users\\dess\\AppData\\Local\\Temp\\ipykernel_58872\\3681516673.py:17: RuntimeWarning: All-NaN axis encountered\n",
      "  gs_start=np.nanmin(start,axis=0)\n",
      "C:\\Users\\dess\\AppData\\Local\\Temp\\ipykernel_58872\\3681516673.py:18: RuntimeWarning: All-NaN axis encountered\n",
      "  gs_end=np.nanmax(end,axis=0)\n"
     ]
    },
    {
     "data": {
      "text/plain": [
       "(1.0, 703.0, (3600, 7200))"
      ]
     },
     "execution_count": 9,
     "metadata": {},
     "output_type": "execute_result"
    }
   ],
   "source": [
    "gs_12_start=gs_12_start.astype(np.float32)\n",
    "gs_12_start[gs_12_start<=0]=np.nan\n",
    "gs_13_start=gs_13_start.astype(np.float32)\n",
    "gs_13_start[gs_13_start<=0]=np.nan\n",
    "gs_14_start=gs_14_start.astype(np.float32)\n",
    "gs_14_start[gs_14_start<=0]=np.nan\n",
    "\n",
    "gs_12_end=gs_12_end.astype(np.float32)\n",
    "gs_12_end[gs_12_end<=0]=np.nan\n",
    "gs_13_end=gs_13_end.astype(np.float32)\n",
    "gs_13_end[gs_13_end<=0]=np.nan\n",
    "gs_14_end=gs_14_end.astype(np.float32)\n",
    "gs_14_end[gs_14_end<=0]=np.nan\n",
    "\n",
    "start=[gs_12_start,gs_13_start,gs_14_start]\n",
    "end=[gs_12_end,gs_13_end,gs_14_end]\n",
    "gs_start=np.nanmin(start,axis=0)\n",
    "gs_end=np.nanmax(end,axis=0)\n",
    "\n",
    "np.nanmin(gs_start),np.nanmax(gs_start),gs_start.shape"
   ]
  },
  {
   "cell_type": "code",
   "execution_count": 10,
   "id": "032e3e8b",
   "metadata": {
    "ExecuteTime": {
     "end_time": "2024-06-07T11:42:21.636222Z",
     "start_time": "2024-06-07T11:42:19.030345Z"
    }
   },
   "outputs": [],
   "source": [
    "#读取mask的坐标信息，然后warp drought数据\n",
    "dt=read_img(season_path+'VIPPHEN_EVI2_2012_start.tif')\n",
    "write_img(season_path+'VIPPHEN_EVI2_startday_240607.tif',dt[4],dt[3],gs_start)\n",
    "write_img(season_path+'VIPPHEN_EVI2_endday_240607.tif',dt[4],dt[3],gs_end)"
   ]
  },
  {
   "cell_type": "markdown",
   "id": "f687c7ee",
   "metadata": {},
   "source": [
    "# convert from dayly to monthly"
   ]
  },
  {
   "cell_type": "code",
   "execution_count": 12,
   "id": "af022b3b",
   "metadata": {
    "ExecuteTime": {
     "end_time": "2024-06-08T07:02:24.907794Z",
     "start_time": "2024-06-08T06:47:50.255891Z"
    },
    "code_folding": [
     11
    ]
   },
   "outputs": [
    {
     "data": {
      "text/plain": [
       "(1, 12)"
      ]
     },
     "execution_count": 12,
     "metadata": {},
     "output_type": "execute_result"
    }
   ],
   "source": [
    "'''\n",
    "#天转月，北半球start<end,南半球start>end\n",
    "# original_matrix = np.random.randint(0, 366, size=(3600, 7200))  # 示例代码生成一个随机矩阵  \n",
    "\n",
    "# 定义每个月的天数  \n",
    "days_in_month = np.array([31, 28, 31, 30, 31, 30, 31, 31, 30, 31, 30, 31])  \n",
    "# 累计天数数组（从1开始，以匹配月份）  \n",
    "cumulative_days = np.cumsum(days_in_month)  \n",
    "# 创建一个与原始矩阵shape相同的空矩阵来存储结果  \n",
    "month_matrix = np.zeros_like(gs_start, dtype=int)  \n",
    "# 遍历原始矩阵的每个元素，并计算对应的月份  \n",
    "for i in range(3600):\n",
    "    for j in range(7200):  \n",
    "        day_start = gs_start[i, j]\n",
    "        # 找到day属于哪个月份（通过比较cumulative_days数组）  \n",
    "        for k, cum_day in enumerate(cumulative_days):  \n",
    "            if day_start < cum_day:  \n",
    "                month_matrix[i, j] = k + 1  # k+1是因为cumulative_days是从0天开始累计的，而月份从1开始  \n",
    "                break\n",
    "        else:  \n",
    "            # 如果day等于或大于一年的总天数，设置为12月（这里假设输入的day不会超过365）  \n",
    "            month_matrix[i, j] = 12\n",
    "np.min(month_matrix),np.max(month_matrix)\n",
    "'''"
   ]
  },
  {
   "cell_type": "code",
   "execution_count": 20,
   "id": "91c59bbc",
   "metadata": {
    "ExecuteTime": {
     "end_time": "2024-06-08T07:20:01.937667Z",
     "start_time": "2024-06-08T07:19:59.642483Z"
    }
   },
   "outputs": [],
   "source": [
    "days_in_month = np.array([31, 28, 31, 30, 31, 30, 31, 31, 30, 31, 30, 31])# 定义每个月的天数（不考虑闰年）  \n",
    "# 计算累计天数（从0开始，因为searchsorted是从左侧边界开始搜索的）  \n",
    "cumulative_days = np.cumsum(days_in_month) - 1  # 减1是为了与searchsorted的行为一致  \n",
    "# 创建一个与原始矩阵shape相同的空矩阵来存储月份  \n",
    "month_matrix = np.zeros_like(gs_start, dtype=int)  \n",
    "# 使用searchsorted找到每个天数对应的月份索引（加1以转换为1-12月的表示）  \n",
    "month_matrix = np.searchsorted(cumulative_days, gs_start, side='right') + 1  \n",
    "# 注意：searchsorted的side='right'表示在找到的第一个大于或等于给定值的元素的索引处停止搜索  \n",
    "# 由于我们的累计天数是从0开始的，并且searchsorted返回的是第一个大于给定值的索引，  \n",
    "# 所以我们需要加1来得到正确的月份（从1开始）\n",
    "# 如果原始矩阵中有大于365的值，上面的代码会将它们映射到13或更高的月份，但我们可以简单地设置它们为12月\n",
    "month_matrix[month_matrix > 12] = 0\n",
    "dt=read_img(season_path+'VIPPHEN_EVI2_2012_start.tif')\n",
    "write_img(season_path+'VIPPHEN_EVI2_start-month_240607a.tif',dt[4],dt[3],month_matrix)"
   ]
  },
  {
   "cell_type": "code",
   "execution_count": 21,
   "id": "e958c103",
   "metadata": {
    "ExecuteTime": {
     "end_time": "2024-06-08T07:20:08.360418Z",
     "start_time": "2024-06-08T07:20:06.751012Z"
    }
   },
   "outputs": [],
   "source": [
    "month_matrix = np.zeros_like(gs_end, dtype=int)  \n",
    "month_matrix = np.searchsorted(cumulative_days, gs_end, side='right') + 1  \n",
    "month_matrix[month_matrix > 12] = 0\n",
    "write_img(season_path+'VIPPHEN_EVI2_end-month_240607a.tif',dt[4],dt[3],month_matrix)"
   ]
  },
  {
   "cell_type": "code",
   "execution_count": 23,
   "id": "31e42242",
   "metadata": {
    "ExecuteTime": {
     "end_time": "2024-06-08T07:21:34.370792Z",
     "start_time": "2024-06-08T07:21:31.466586Z"
    }
   },
   "outputs": [
    {
     "data": {
      "text/plain": [
       "<osgeo.gdal.Dataset; proxy of <Swig Object of type 'GDALDatasetShadow *' at 0x0000024BF4BFD7A0> >"
      ]
     },
     "execution_count": 23,
     "metadata": {},
     "output_type": "execute_result"
    }
   ],
   "source": [
    "def GetExtent(infile):\n",
    "    ds = gdal.Open(infile)\n",
    "    geotrans = ds.GetGeoTransform()\n",
    "    xsize = ds.RasterXSize\n",
    "    ysize = ds.RasterYSize\n",
    "    min_x,max_y = geotrans[0],geotrans[3]\n",
    "    max_x,min_y = geotrans[0]+xsize*geotrans[1],geotrans[3]+ysize*geotrans[5]\n",
    "    ds = None\n",
    "    return min_x,max_y,max_x,min_y\n",
    "tt=GetExtent(spei_path+'csif_resistance_230321.tif')\n",
    "gdal.Warp(season_path+'VIPPHEN_EVI2_end-month_240607_sub.tif',\n",
    "          season_path+'VIPPHEN_EVI2_end-month_240607a.tif',\n",
    "          dstSRS='EPSG:4326',\n",
    "          outputBounds = [tt[0],tt[3],tt[2],tt[1]],\n",
    "          xRes=0.01,\n",
    "          yRes=0.01,\n",
    "          targetAlignedPixels=True,\n",
    "          creationOptions = [\"COMPRESS=LZW\"])"
   ]
  },
  {
   "cell_type": "code",
   "execution_count": null,
   "id": "7d60eb7f",
   "metadata": {},
   "outputs": [],
   "source": []
  }
 ],
 "metadata": {
  "kernelspec": {
   "display_name": "Python 3 (ipykernel)",
   "language": "python",
   "name": "python3"
  },
  "language_info": {
   "codemirror_mode": {
    "name": "ipython",
    "version": 3
   },
   "file_extension": ".py",
   "mimetype": "text/x-python",
   "name": "python",
   "nbconvert_exporter": "python",
   "pygments_lexer": "ipython3",
   "version": "3.10.6"
  },
  "toc": {
   "base_numbering": 1,
   "nav_menu": {},
   "number_sections": true,
   "sideBar": true,
   "skip_h1_title": false,
   "title_cell": "Table of Contents",
   "title_sidebar": "Contents",
   "toc_cell": false,
   "toc_position": {},
   "toc_section_display": true,
   "toc_window_display": false
  },
  "varInspector": {
   "cols": {
    "lenName": 16,
    "lenType": 16,
    "lenVar": 40
   },
   "kernels_config": {
    "python": {
     "delete_cmd_postfix": "",
     "delete_cmd_prefix": "del ",
     "library": "var_list.py",
     "varRefreshCmd": "print(var_dic_list())"
    },
    "r": {
     "delete_cmd_postfix": ") ",
     "delete_cmd_prefix": "rm(",
     "library": "var_list.r",
     "varRefreshCmd": "cat(var_dic_list()) "
    }
   },
   "types_to_exclude": [
    "module",
    "function",
    "builtin_function_or_method",
    "instance",
    "_Feature"
   ],
   "window_display": false
  }
 },
 "nbformat": 4,
 "nbformat_minor": 5
}
