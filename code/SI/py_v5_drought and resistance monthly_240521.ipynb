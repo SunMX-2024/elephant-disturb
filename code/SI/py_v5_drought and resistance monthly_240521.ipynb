{
 "cells": [
  {
   "cell_type": "code",
   "execution_count": 1,
   "id": "73b32551",
   "metadata": {
    "ExecuteTime": {
     "end_time": "2024-06-08T11:12:51.648163Z",
     "start_time": "2024-06-08T11:12:43.848039Z"
    },
    "code_folding": [
     16,
     25
    ]
   },
   "outputs": [],
   "source": [
    "import numpy as np\n",
    "from netCDF4 import Dataset\n",
    "import matplotlib.pyplot as plt\n",
    "import multiprocessing\n",
    "import os\n",
    "import time\n",
    "import gloce as gc\n",
    "from osgeo import gdal\n",
    "from osgeo import gdalconst\n",
    "from mpl_toolkits.basemap import Basemap\n",
    "from glob import glob\n",
    "from math import ceil\n",
    "import seaborn as sns\n",
    "from scipy import stats\n",
    "from scipy.stats import gaussian_kde\n",
    "#return im_data, im_width, im_height, im_geotrans, im_proj\n",
    "def read_img(filename):\n",
    "    dt = gdal.Open(filename)\n",
    "    im_width = dt.RasterXSize\n",
    "    im_height = dt.RasterYSize\n",
    "    im_bands = dt.RasterCount\n",
    "    im_geotrans = dt.GetGeoTransform()\n",
    "    im_proj = dt.GetProjection()\n",
    "    im_data = dt.ReadAsArray(0,0,im_width,im_height)\n",
    "    return im_data, im_width, im_height, im_geotrans, im_proj\n",
    "def write_img(filename, im_proj, im_geotrans, im_data):\n",
    "    if 'int8' in im_data.dtype.name:\n",
    "        datatype = gdal.GDT_Byte\n",
    "    elif 'int16' in im_data.dtype.name:\n",
    "        datatype = gdal.GDT_UInt16\n",
    "    else:\n",
    "        datatype = gdal.GDT_Float32\n",
    "    if len(im_data.shape) == 3:\n",
    "        im_bands, im_height, im_width = im_data.shape\n",
    "    else:\n",
    "        im_bands, (im_height, im_width) = 1, im_data.shape\n",
    "    driver = gdal.GetDriverByName(\"GTiff\")\n",
    "    dataset = driver.Create(filename, im_width, im_height, im_bands, datatype)\n",
    "    dataset.SetGeoTransform(im_geotrans)\n",
    "    dataset.SetProjection(im_proj)\n",
    "    if im_bands == 1:\n",
    "        dataset.GetRasterBand(1).WriteArray(im_data)\n",
    "    else:\n",
    "        for i in range(im_bands):\n",
    "            dataset.GetRasterBand(i + 1).WriteArray(im_data[i])\n",
    "spei_path='//weili/User2/mxsun/CESS_230818/SPEI_highRes/'"
   ]
  },
  {
   "cell_type": "markdown",
   "id": "0d1013af",
   "metadata": {},
   "source": [
    "# SPEI0.05°data"
   ]
  },
  {
   "cell_type": "markdown",
   "id": "a1649e69",
   "metadata": {},
   "source": [
    "## Monthly drought events"
   ]
  },
  {
   "cell_type": "code",
   "execution_count": 34,
   "id": "47d28bc4",
   "metadata": {
    "ExecuteTime": {
     "end_time": "2024-05-24T01:51:20.105437Z",
     "start_time": "2024-05-24T01:51:06.181832Z"
    }
   },
   "outputs": [
    {
     "data": {
      "text/plain": [
       "1.0"
      ]
     },
     "execution_count": 34,
     "metadata": {},
     "output_type": "execute_result"
    }
   ],
   "source": [
    "#1981-2016\n",
    "#2012:(372,384),2013:(384,396),2014:(396,408),2015:(408,420),2016:(420,432)\n",
    "#计算2012-2016年均SPEI\n",
    "dt=Dataset(spei_path+'spei03.nc')\n",
    "spei=dt.variables['spei']\n",
    "#2012:(372,384),2013:(384,396),2014:(396,408),2015:(408,420),2016:(420,432)\n",
    "spei2012_14=spei[372:408,:,:]\n",
    "spei2015_16=spei[408:432,:,:]\n",
    "spei_tot=[spei2012_14,spei2015_16]\n",
    "for i in range(2):\n",
    "    spei_tot[i][np.isnan(spei_tot[i])]=0\n",
    "    spei_tot[i][spei_tot[i]>-1]=0\n",
    "    spei_tot[i][spei_tot[i]<=-1]=1\n",
    "np.nanmax(spei_tot[0])"
   ]
  },
  {
   "cell_type": "markdown",
   "id": "ead6d33b",
   "metadata": {},
   "source": [
    "## drought month"
   ]
  },
  {
   "cell_type": "code",
   "execution_count": 35,
   "id": "009eed30",
   "metadata": {
    "ExecuteTime": {
     "end_time": "2024-05-24T01:51:43.115604Z",
     "start_time": "2024-05-24T01:51:22.257123Z"
    }
   },
   "outputs": [
    {
     "data": {
      "text/plain": [
       "(24, 1800, 2080)"
      ]
     },
     "execution_count": 35,
     "metadata": {},
     "output_type": "execute_result"
    }
   ],
   "source": [
    "spei_ev=np.zeros((2,1800,2080))\n",
    "dd=np.zeros((34,1800,2080))\n",
    "dd1=np.zeros((22,1800,2080))#用于标记droguht area和起始时间\n",
    "for k in range(2):\n",
    "    if k==0:\n",
    "        #ref year:2012-2014,标记出droguht area\n",
    "        for m in range(34):\n",
    "            dd[m]=spei_tot[k][m]*spei_tot[k][m+1]*spei_tot[k][m+2] #连续3个月相乘，如果有1出现表示有连续3个月干旱\n",
    "        spei_ev[k]=np.sum(dd,axis=0)\n",
    "        spei_ev[k][spei_ev[k]>=1]=1\n",
    "    if k==1:\n",
    "        #drought year:2015-2016,标记出droguht area，起始月份，时间强度\n",
    "        for m in range(22):\n",
    "            #drought area\n",
    "            dd1[m]=spei_tot[k][m]*spei_tot[k][m+1]*spei_tot[k][m+2]#连续3个月相乘，如果有1出现表示有连续3个月干旱\n",
    "        spei_ev[k]=np.sum(dd1,axis=0)\n",
    "        spei_ev[k][spei_ev[k]>=1]=1\n",
    "\n",
    "#----------------drought month---------------------\n",
    "dr_month=np.zeros((24,1800,2080))\n",
    "#temporal_magni=np.zeros((1800,2080))\n",
    "for i in range(1800):\n",
    "    for j in range(2080):\n",
    "        if np.count_nonzero(dd1[:,i,j])==1:#仅一次连续3个月drought，起始时间为第一个月，时间强度为3\n",
    "            t=list(dd1[:,i,j]).index(1)#首次出现1的位置\n",
    "            dr_month[t:t+3,i,j]=[1 for aa in dr_month[t:t+3,i,j]]#从首次出现1的月份开始，连续3次均为1\n",
    "            #temporal_magni[i,j]=1\n",
    "        elif np.count_nonzero(dd1[:,i,j])>1:\n",
    "            mst=[t for t in range(len(dd1[:,i,j])) if dd1[:,i,j][t] == 1]\n",
    "            for m in mst:\n",
    "                dr_month[m:m+3,i,j]=[1 for aa in dr_month[m:m+3,i,j]]\n",
    "            #temporal_magni[i,j]=len(mst)\n",
    "dr_month.shape\n",
    "#dd1仅保留连续3个月以上干旱的标记1，每个1匹配月份，对应采用的resistance month。-----------temperal magnitude即出现1的个数"
   ]
  },
  {
   "cell_type": "code",
   "execution_count": 4,
   "id": "fba9dd24",
   "metadata": {
    "ExecuteTime": {
     "end_time": "2024-05-23T11:22:51.234417Z",
     "start_time": "2024-05-23T11:22:43.772686Z"
    }
   },
   "outputs": [],
   "source": [
    "np.save(spei_path+'drought_monthly_record_240523.npy',dr_month)"
   ]
  },
  {
   "cell_type": "code",
   "execution_count": 5,
   "id": "3420279d",
   "metadata": {
    "ExecuteTime": {
     "end_time": "2024-05-23T11:22:56.691687Z",
     "start_time": "2024-05-23T11:22:52.659966Z"
    }
   },
   "outputs": [],
   "source": [
    "from osgeo import gdal, osr, ogr\n",
    "Lon=dt.variables['lon'][:]\n",
    "Lat=dt.variables['lat'][:]\n",
    "LonMin,LatMax,LonMax,LatMin = [Lon.min(),Lat.max(),Lon.max(),Lat.min()]\n",
    "#分辨率计算\n",
    "N_Lat = len(Lat)\n",
    "N_Lon = len(Lon)\n",
    "Lon_Res = (LonMax - LonMin) /(float(N_Lon)-1)\n",
    "Lat_Res = (LatMax - LatMin) / (float(N_Lat)-1)\n",
    "srs = osr.SpatialReference()\n",
    "srs.ImportFromEPSG(4326) # 定义输出的坐标系为\"WGS 84\"，AUTHORITY[\"EPSG\",\"4326\"]\n",
    "proj=srs.ExportToWkt()\n",
    "geotrans = (LonMin, Lon_Res, 0, LatMax, 0, Lat_Res)\n",
    "write_img(spei_path+'drought_monthly_record_240523.tif',proj,geotrans,dr_month)"
   ]
  },
  {
   "cell_type": "code",
   "execution_count": 37,
   "id": "7da26db9",
   "metadata": {
    "ExecuteTime": {
     "end_time": "2024-05-24T01:56:26.601218Z",
     "start_time": "2024-05-24T01:54:58.880270Z"
    }
   },
   "outputs": [
    {
     "data": {
      "text/plain": [
       "<osgeo.gdal.Dataset; proxy of <Swig Object of type 'GDALDatasetShadow *' at 0x000002D25903E5E0> >"
      ]
     },
     "execution_count": 37,
     "metadata": {},
     "output_type": "execute_result"
    }
   ],
   "source": [
    "#读取mask的坐标信息，然后warp drought数据\n",
    "def GetExtent(infile):\n",
    "    ds = gdal.Open(infile)\n",
    "    geotrans = ds.GetGeoTransform()\n",
    "    xsize = ds.RasterXSize\n",
    "    ysize = ds.RasterYSize\n",
    "    min_x,max_y = geotrans[0],geotrans[3]\n",
    "    max_x,min_y = geotrans[0]+xsize*geotrans[1],geotrans[3]+ysize*geotrans[5]\n",
    "    ds = None\n",
    "    return min_x,max_y,max_x,min_y\n",
    "tt=GetExtent(spei_path+'csif_resistance_230321.tif')\n",
    "gdal.Warp(spei_path+'drought_monthly_afr_record_240523_sub.tif',\n",
    "          spei_path+'drought_monthly_afr_record_240523.tif',\n",
    "          dstSRS='EPSG:4326',\n",
    "          outputBounds = [tt[0],tt[3],tt[2],tt[1]],\n",
    "          xRes=0.01,\n",
    "          yRes=0.01,\n",
    "          targetAlignedPixels=True,\n",
    "          resampleAlg = gdalconst.GRA_NearestNeighbour,#注意这里不要选mean值重采样，保证binary输出\n",
    "          creationOptions = [\"COMPRESS=LZW\"])"
   ]
  },
  {
   "cell_type": "markdown",
   "id": "52e90091",
   "metadata": {},
   "source": [
    "## drought area"
   ]
  },
  {
   "cell_type": "code",
   "execution_count": 6,
   "id": "6263a854",
   "metadata": {
    "ExecuteTime": {
     "end_time": "2024-05-23T11:23:01.733397Z",
     "start_time": "2024-05-23T11:23:01.683414Z"
    }
   },
   "outputs": [
    {
     "name": "stdout",
     "output_type": "stream",
     "text": [
      "(2, 1800, 2080)\n",
      "-1.0 1.0\n"
     ]
    }
   ],
   "source": [
    "#-----------------仅1025-2016年发生干旱区域-----------------\n",
    "spei_afr=spei_ev\n",
    "print(spei_afr.shape)\n",
    "spei_afr[np.isnan(spei_afr)]=0\n",
    "spei_afr15_16=spei_afr[1]\n",
    "spei_else=spei_afr[0]\n",
    "#spei_else[spei_else>0]=1\n",
    "spei1516_only=spei_afr15_16-spei_else\n",
    "print(np.min(spei1516_only),np.max(spei1516_only))\n",
    "spei1516_only[spei1516_only==-1]=0"
   ]
  },
  {
   "cell_type": "code",
   "execution_count": 7,
   "id": "ee22378f",
   "metadata": {
    "ExecuteTime": {
     "end_time": "2024-05-23T11:23:08.222895Z",
     "start_time": "2024-05-23T11:23:05.981791Z"
    }
   },
   "outputs": [
    {
     "data": {
      "image/png": "[encoded data removed]",
      "text/plain": [
       "<Figure size 1500x500 with 3 Axes>"
      ]
     },
     "metadata": {},
     "output_type": "display_data"
    }
   ],
   "source": [
    "dt_dr=np.zeros((3,1800,2080))\n",
    "dt_dr[0]=spei_ev[0]\n",
    "dt_dr[1]=spei_ev[1]\n",
    "dt_dr[2]=spei1516_only\n",
    "\n",
    "from pylab import *\n",
    "from matplotlib.colors import ListedColormap,LinearSegmentedColormap\n",
    "Lon=dt.variables['lon'][:]\n",
    "Lat=dt.variables['lat'][:]\n",
    "LonMin,LatMax,LonMax,LatMin = [Lon.min(),Lat.max(),Lon.max(),Lat.min()]\n",
    "plt.rc('font', **{'family': 'sans-serif', 'sans-serif': ['Helvetica']})\n",
    "plt.rc('lines', linewidth = 1.5) \n",
    "#plt.subplots_adjust(left=None, bottom=None, right=None, top=None, wspace=0.3, hspace=0.2)\n",
    "lon1 = LonMin;lon2 = LonMax\n",
    "lat1 = LatMin;lat2 = LatMax\n",
    "fig = plt.figure(figsize=(15,5)) ##width, height default(8,6)\n",
    "plt.subplots_adjust(wspace=0.1,hspace=0.1)\n",
    "for i in range(3):\n",
    "    ax = fig.add_subplot(1,3,i+1)\n",
    "    m = Basemap(llcrnrlon=lon1,llcrnrlat=lat1,urcrnrlon=lon2,urcrnrlat=lat2)\n",
    "    #m.drawmapboundary(linewidth=1,fill_color = 'lightcyan')\n",
    "    m.drawcoastlines(linewidth=0.5, color='gray',zorder=40)\n",
    "    clist=['white','red']\n",
    "    cmp=LinearSegmentedColormap.from_list('chaos',clist)\n",
    "    im = m.imshow(dt_dr[i],cmap =cmp,origin='upper')\n",
    "\n",
    "#2012-2014年干旱区域，2015-2016年干旱区域，仅2015-2016年干旱区域"
   ]
  },
  {
   "cell_type": "markdown",
   "id": "2b247c18",
   "metadata": {},
   "source": [
    "# Monthly resistance data"
   ]
  },
  {
   "cell_type": "code",
   "execution_count": null,
   "id": "e2fbda17",
   "metadata": {
    "code_folding": []
   },
   "outputs": [],
   "source": [
    "# 2015年：0,1,2,3,4,5,6,7,8,9,10,11,2016年：12,13,14,15,16,17,18,19,20,21,22,23"
   ]
  },
  {
   "cell_type": "markdown",
   "id": "d4f0cd1e",
   "metadata": {},
   "source": [
    "## SIF"
   ]
  },
  {
   "cell_type": "code",
   "execution_count": 69,
   "id": "e6dfa183",
   "metadata": {
    "ExecuteTime": {
     "end_time": "2024-05-23T01:50:49.155996Z",
     "start_time": "2024-05-23T01:44:55.967356Z"
    },
    "collapsed": true
   },
   "outputs": [
    {
     "name": "stdout",
     "output_type": "stream",
     "text": [
      "yr: 0 \n",
      "\n",
      "0 ,\n",
      "1 ,\n",
      "2 ,\n",
      "3 ,\n",
      "4 ,\n",
      "5 ,\n",
      "6 ,\n",
      "7 ,\n",
      "8 ,\n",
      "9 ,\n",
      "10 ,\n",
      "11 ,\n",
      "yr: 1 \n",
      "\n",
      "0 ,\n",
      "1 ,\n",
      "2 ,\n",
      "3 ,\n",
      "4 ,\n",
      "5 ,\n",
      "6 ,\n",
      "7 ,\n",
      "8 ,\n",
      "9 ,\n",
      "10 ,\n",
      "11 ,\n",
      "yr: 2 \n",
      "\n",
      "0 ,\n",
      "1 ,\n",
      "2 ,\n",
      "3 ,\n",
      "4 ,\n",
      "5 ,\n",
      "6 ,\n",
      "7 ,\n",
      "8 ,\n",
      "9 ,\n",
      "10 ,\n",
      "11 ,\n",
      "yr: 3 \n",
      "\n",
      "0 ,\n",
      "1 ,\n",
      "2 ,\n",
      "3 ,\n",
      "4 ,\n",
      "5 ,\n",
      "6 ,\n",
      "7 ,\n",
      "8 ,\n",
      "9 ,\n",
      "10 ,\n",
      "11 ,\n",
      "yr: 4 \n",
      "\n",
      "0 ,\n",
      "1 ,\n",
      "2 ,\n",
      "3 ,\n",
      "4 ,\n",
      "5 ,\n",
      "6 ,\n",
      "7 ,\n",
      "8 ,\n",
      "9 ,\n",
      "10 ,\n",
      "11 ,\n"
     ]
    },
    {
     "data": {
      "text/plain": [
       "(5, 12, 3600, 7200)"
      ]
     },
     "execution_count": 69,
     "metadata": {},
     "output_type": "execute_result"
    }
   ],
   "source": [
    "doc_csif=['D:/CSIF/2012/','D:/CSIF/2013/','D:/CSIF/2014/','D:/CSIF/2015/','D:/CSIF/2016/']\n",
    "#montly integrated of SIF data\n",
    "#dn=[31,28,31,30,31,30,31,31,30,31,30,31]#day-numbers of each month\n",
    "k=np.arange(1,366,4)\n",
    "dy=[0,31,59,90,120,151,181,212,243,273,304,334,365]\n",
    "#z_mean=np.zeros((92,3600,7200))\n",
    "m_mean=np.zeros((5,12,3600,7200))\n",
    "for i in range(5):\n",
    "    print(\"yr:\",i,'\\n')\n",
    "    for j in range(12):\n",
    "        print(j,',')\n",
    "        mon_tip=[]\n",
    "        for m in range(92):\n",
    "            dt=Dataset(doc_csif[i]+'OCO2.SIF.clear.inst.20{}{:0>3d}.v2.nc'.format(i+12,k[m]))\n",
    "            cs_inst=dt.variables['clear_inst_SIF']\n",
    "            #z_mean[m,:,:]=np.array(cs_inst)\n",
    "            if k[m]>dy[j] and k[m]<=dy[j+1]:\n",
    "                mon_tip.append(cs_inst)\n",
    "        m_mean[i,j,:,:]=np.mean(mon_tip,axis=0)\n",
    "m_mean.shape"
   ]
  },
  {
   "cell_type": "markdown",
   "id": "98eb765e",
   "metadata": {},
   "source": [
    "## 导出 tif"
   ]
  },
  {
   "cell_type": "code",
   "execution_count": 72,
   "id": "4eeca565",
   "metadata": {
    "ExecuteTime": {
     "end_time": "2024-05-23T02:06:10.265829Z",
     "start_time": "2024-05-23T02:06:04.206596Z"
    }
   },
   "outputs": [],
   "source": [
    "mm_mean=np.zeros((5,12,3600,7200))\n",
    "for i in range(5):\n",
    "    for j in range(12):\n",
    "        mm_mean[i,j,:,:]=np.flipud(m_mean[i,j,:,:])        "
   ]
  },
  {
   "cell_type": "code",
   "execution_count": 73,
   "id": "b691706c",
   "metadata": {
    "ExecuteTime": {
     "end_time": "2024-05-23T02:07:45.689667Z",
     "start_time": "2024-05-23T02:06:12.485635Z"
    },
    "collapsed": true
   },
   "outputs": [
    {
     "name": "stdout",
     "output_type": "stream",
     "text": [
      "0 /\n",
      "1 /\n",
      "2 /\n",
      "3 /\n",
      "4 /\n",
      "5 /\n",
      "6 /\n",
      "7 /\n",
      "8 /\n",
      "9 /\n",
      "10 /\n",
      "11 /\n",
      "0 /\n",
      "1 /\n",
      "2 /\n",
      "3 /\n",
      "4 /\n",
      "5 /\n",
      "6 /\n",
      "7 /\n",
      "8 /\n",
      "9 /\n",
      "10 /\n",
      "11 /\n",
      "0 /\n",
      "1 /\n",
      "2 /\n",
      "3 /\n",
      "4 /\n",
      "5 /\n",
      "6 /\n",
      "7 /\n",
      "8 /\n",
      "9 /\n",
      "10 /\n",
      "11 /\n",
      "0 /\n",
      "1 /\n",
      "2 /\n",
      "3 /\n",
      "4 /\n",
      "5 /\n",
      "6 /\n",
      "7 /\n",
      "8 /\n",
      "9 /\n",
      "10 /\n",
      "11 /\n",
      "0 /\n",
      "1 /\n",
      "2 /\n",
      "3 /\n",
      "4 /\n",
      "5 /\n",
      "6 /\n",
      "7 /\n",
      "8 /\n",
      "9 /\n",
      "10 /\n",
      "11 /\n"
     ]
    }
   ],
   "source": [
    "sif_out='//weili/User2/mxsun/CESS_230818/Resistance_monthly/SIF_monthly/'\n",
    "#-25,38,52,-47\n",
    "from osgeo import gdal,osr,ogr\n",
    "pathin='D:/CSIF/'\n",
    "ref=Dataset(doc_csif[0]+'OCO2.SIF.clear.inst.2012001.v2.nc')\n",
    "lon=np.array(ref.variables['lon'])\n",
    "lat=np.array(ref.variables['lat'])\n",
    "lonmin,latmax,lonmax,latmin=[lon.min(),lat.max(),lon.max(),lat.min()]\n",
    "#计算分辨率\n",
    "n_lat=len(lat)\n",
    "n_lon=len(lon)\n",
    "lon_res=(lonmax-lonmin)/(float(n_lon)-1)\n",
    "lat_res=(latmax-latmin)/(float(n_lat)-1)\n",
    "#创建tif文件\n",
    "driver=gdal.GetDriverByName('GTiff')\n",
    "\n",
    "for i in range(5):\n",
    "    for j in range(12):\n",
    "        print(j,'/')\n",
    "        out_tif_name=sif_out+'CSIF_monthly_20{}{:0>2d}.tif'.format(i+12,j+1)\n",
    "        out_tif=driver.Create(out_tif_name,n_lon,n_lat,1,gdal.GDT_Float32)\n",
    "        #设置影像的显示范围\n",
    "        geotransform=(lonmin,lon_res,0,latmax,0,-lat_res)\n",
    "        out_tif.SetGeoTransform(geotransform)\n",
    "        #获取地理坐标系统信息，用于选取需要的地理坐标系统\n",
    "        srs = osr.SpatialReference()\n",
    "        srs.ImportFromEPSG(4326) # 定义输出的坐标系为\"WGS 84\"，AUTHORITY[\"EPSG\",\"4326\"]\n",
    "        out_tif.SetProjection(srs.ExportToWkt()) # 给新建图层赋予投影信息\n",
    "        #去除异常值    \n",
    "        #pd_3yr[pd_3yr==32768] = -1\n",
    "        #数据写出\n",
    "        out_tif.GetRasterBand(1).WriteArray(mm_mean[i,j,:,:])\n",
    "        out_tif.GetRasterBand(1).SetNoDataValue(-1)\n",
    "        out_tif.FlushCache() # 将数据写入硬盘\n",
    "        del out_tif # 注意必须关闭tif文件\n",
    "        #return nc_data_obj.variables"
   ]
  },
  {
   "cell_type": "markdown",
   "id": "4194c158",
   "metadata": {},
   "source": [
    "## 提取非洲部分"
   ]
  },
  {
   "cell_type": "code",
   "execution_count": 74,
   "id": "0469188e",
   "metadata": {
    "ExecuteTime": {
     "end_time": "2024-05-23T02:12:29.622366Z",
     "start_time": "2024-05-23T02:12:29.489408Z"
    }
   },
   "outputs": [
    {
     "data": {
      "text/plain": [
       "(-26.0, 25.0, 53.0, -40.0)"
      ]
     },
     "execution_count": 74,
     "metadata": {},
     "output_type": "execute_result"
    }
   ],
   "source": [
    "#读取mask的坐标信息，然后warp drought数据\n",
    "def GetExtent(infile):\n",
    "    ds = gdal.Open(infile)\n",
    "    geotrans = ds.GetGeoTransform()\n",
    "    xsize = ds.RasterXSize\n",
    "    ysize = ds.RasterYSize\n",
    "    min_x,max_y = geotrans[0],geotrans[3]\n",
    "    max_x,min_y = geotrans[0]+xsize*geotrans[1],geotrans[3]+ysize*geotrans[5]\n",
    "    ds = None\n",
    "    return min_x,max_y,max_x,min_y\n",
    "tt=GetExtent(spei_path+'csif_resistance_230321.tif')\n",
    "tt"
   ]
  },
  {
   "cell_type": "markdown",
   "id": "8cafea4a",
   "metadata": {},
   "source": [
    "### sif"
   ]
  },
  {
   "cell_type": "code",
   "execution_count": 76,
   "id": "386da250",
   "metadata": {
    "ExecuteTime": {
     "end_time": "2024-05-23T02:27:03.268849Z",
     "start_time": "2024-05-23T02:17:46.809712Z"
    }
   },
   "outputs": [],
   "source": [
    "sif_afr='//weili/User2/mxsun/CESS_230818/Resistance_monthly/SIF_monthly/sif_afr/'\n",
    "for i in range(5):\n",
    "    for j in range(12):\n",
    "        gdal.Warp(sif_afr+'CSIF_monthly_afr_20{}{:0>2d}.tif'.format(i+12,j+1),\n",
    "                  sif_out+'CSIF_monthly_20{}{:0>2d}.tif'.format(i+12,j+1),\n",
    "                  dstSRS='EPSG:4326',\n",
    "                  outputBounds = [tt[0],tt[3],tt[2],tt[1]],\n",
    "                  xRes=0.01,\n",
    "                  yRes=0.01,\n",
    "                  targetAlignedPixels=True,\n",
    "                  resampleAlg = gdalconst.GRA_Average,\n",
    "                  creationOptions = [\"COMPRESS=LZW\"])"
   ]
  },
  {
   "cell_type": "markdown",
   "id": "e59adb1e",
   "metadata": {},
   "source": [
    "### ndvi"
   ]
  },
  {
   "cell_type": "code",
   "execution_count": 78,
   "id": "810ecb7a",
   "metadata": {
    "ExecuteTime": {
     "end_time": "2024-05-23T02:50:35.743661Z",
     "start_time": "2024-05-23T02:31:36.450849Z"
    }
   },
   "outputs": [],
   "source": [
    "ndvi_in='//weili/User2/mxsun/CESS_230818/Resistance_monthly/NDVI_monthly/'\n",
    "ndvi_out='//weili/User2/mxsun/CESS_230818/Resistance_monthly/NDVI_monthly/ndvi_afr/'\n",
    "for i in range(5):\n",
    "    for j in range(12):\n",
    "        gdal.Warp(ndvi_out+'NDVI_monthly_afr_20{}{:0>2d}.tif'.format(i+12,j+1),\n",
    "                  ndvi_in+'NDVI20{}_{}.tif'.format(i+12,j+1),\n",
    "                  dstSRS='EPSG:4326',\n",
    "                  outputBounds = [tt[0],tt[3],tt[2],tt[1]],\n",
    "                  xRes=0.01,\n",
    "                  yRes=0.01,\n",
    "                  targetAlignedPixels=True,\n",
    "                  resampleAlg = gdalconst.GRA_Average,\n",
    "                  creationOptions = [\"COMPRESS=LZW\"])"
   ]
  },
  {
   "cell_type": "markdown",
   "id": "48bcfbd8",
   "metadata": {},
   "source": [
    "# Drought resistance"
   ]
  },
  {
   "cell_type": "markdown",
   "id": "cb5fdbd5",
   "metadata": {},
   "source": [
    "## drought mask"
   ]
  },
  {
   "cell_type": "code",
   "execution_count": 2,
   "id": "e0e77648",
   "metadata": {
    "ExecuteTime": {
     "end_time": "2024-06-08T11:13:29.280140Z",
     "start_time": "2024-06-08T11:12:56.988654Z"
    }
   },
   "outputs": [
    {
     "data": {
      "text/plain": [
       "(24, 6500, 7900)"
      ]
     },
     "execution_count": 2,
     "metadata": {},
     "output_type": "execute_result"
    }
   ],
   "source": [
    "dr_month=read_img(spei_path+'drought_monthly_afr_record_240523_sub.tif')[0]\n",
    "dr_month.shape"
   ]
  },
  {
   "cell_type": "code",
   "execution_count": 3,
   "id": "34079d34",
   "metadata": {
    "ExecuteTime": {
     "end_time": "2024-06-08T11:13:31.904752Z",
     "start_time": "2024-06-08T11:13:30.094011Z"
    }
   },
   "outputs": [
    {
     "name": "stdout",
     "output_type": "stream",
     "text": [
      "(12, 6500, 7900) (12, 6500, 7900)\n"
     ]
    },
    {
     "data": {
      "text/plain": [
       "(12, 6500, 7900)"
      ]
     },
     "execution_count": 3,
     "metadata": {},
     "output_type": "execute_result"
    }
   ],
   "source": [
    "#根据monthly drought， 对应月份逐格点求drought resistance\n",
    "#shape of dr_month is (24,1800,2080),2015-2016年逐月\n",
    "dr_15=dr_month[:12,:,:]\n",
    "dr_16=dr_month[12:,:,:]\n",
    "print(dr_15.shape,dr_16.shape)\n",
    "dr_16[dr_16==1]=2\n",
    "dr_comb=dr_15+dr_16\n",
    "dr_comb.shape"
   ]
  },
  {
   "cell_type": "code",
   "execution_count": 4,
   "id": "76f9d54f",
   "metadata": {
    "ExecuteTime": {
     "end_time": "2024-06-08T11:13:52.747418Z",
     "start_time": "2024-06-08T11:13:33.030077Z"
    }
   },
   "outputs": [
    {
     "data": {
      "text/plain": [
       "array([0., 1., 2., 3.], dtype=float32)"
      ]
     },
     "execution_count": 4,
     "metadata": {},
     "output_type": "execute_result"
    }
   ],
   "source": [
    "np.unique(dr_comb)"
   ]
  },
  {
   "cell_type": "code",
   "execution_count": 5,
   "id": "580cd8a6",
   "metadata": {
    "ExecuteTime": {
     "end_time": "2024-06-08T11:14:02.700325Z",
     "start_time": "2024-06-08T11:13:55.047370Z"
    }
   },
   "outputs": [],
   "source": [
    "#----------------------------\n",
    "# monthly drought mask for 2012-2014\n",
    "dr_mask1214=np.copy(dr_comb)\n",
    "dr_mask1214[dr_mask1214>0]=1\n",
    "#----------------------------\n",
    "# monthly drought mask for 2015\n",
    "dr_mask15=np.copy(dr_comb)\n",
    "dr_mask15[dr_mask15>1]=0\n",
    "# monthly drought mask for 2016\n",
    "dr_mask16=np.copy(dr_comb)\n",
    "dr_mask16[dr_mask16!=2]=0\n",
    "dr_mask16[dr_mask16==2]=1\n",
    "# monthly drought mask for 2015 and 2016\n",
    "dr_mask1516=np.copy(dr_comb)\n",
    "dr_mask1516[dr_mask1516!=3]=0\n",
    "dr_mask1516[dr_mask1516==3]=1"
   ]
  },
  {
   "cell_type": "markdown",
   "id": "ae88d8c0",
   "metadata": {},
   "source": [
    "## 计算resistance"
   ]
  },
  {
   "cell_type": "markdown",
   "id": "863c5eda",
   "metadata": {},
   "source": [
    "### monthly vegetation(NDVI, SIF)"
   ]
  },
  {
   "cell_type": "code",
   "execution_count": 10,
   "id": "eaab29e2",
   "metadata": {
    "ExecuteTime": {
     "end_time": "2024-06-08T12:04:45.550487Z",
     "start_time": "2024-06-08T12:00:09.051102Z"
    }
   },
   "outputs": [],
   "source": [
    "ndvi_path='//weili/User2/mxsun/CESS_230818/Resistance_monthly/NDVI_monthly/ndvi_afr/'\n",
    "sif_path='//weili/User2/mxsun/CESS_230818/Resistance_monthly/SIF_monthly/sif_afr/'\n",
    "#2012-2014年按月合并，逐月求均值\n",
    "ndvi12_14_month=np.zeros((12,6500,7900))\n",
    "sif12_14_month=np.zeros((12,6500,7900))\n",
    "for i in range(12):\n",
    "    ndvi12=read_img(ndvi_path+'NDVI_monthly_afr_2012{:0>2d}.tif'.format(i+1))[0]\n",
    "    ndvi13=read_img(ndvi_path+'NDVI_monthly_afr_2013{:0>2d}.tif'.format(i+1))[0]\n",
    "    ndvi14=read_img(ndvi_path+'NDVI_monthly_afr_2014{:0>2d}.tif'.format(i+1))[0]\n",
    "    ndvi12_14_month[i]=(ndvi12+ndvi13+ndvi14)/3\n",
    "    sif12=read_img(sif_path+'CSIF_monthly_afr_2012{:0>2d}.tif'.format(i+1))[0]\n",
    "    sif13=read_img(sif_path+'CSIF_monthly_afr_2013{:0>2d}.tif'.format(i+1))[0]\n",
    "    sif14=read_img(sif_path+'CSIF_monthly_afr_2014{:0>2d}.tif'.format(i+1))[0]\n",
    "    sif12_14_month[i]=(sif12+sif13+sif14)/3\n",
    "\n",
    "#2015-2016年按月合并，逐月求均值\n",
    "ndvi1516_month=np.zeros((12,6500,7900))\n",
    "sif1516_month=np.zeros((12,6500,7900))\n",
    "for i in range(12):\n",
    "    ndvi15=read_img(ndvi_path+'NDVI_monthly_afr_2015{:0>2d}.tif'.format(i+1))[0]\n",
    "    ndvi16=read_img(ndvi_path+'NDVI_monthly_afr_2016{:0>2d}.tif'.format(i+1))[0]\n",
    "    ndvi1516_month[i]=(ndvi15+ndvi16)/2\n",
    "    sif15=read_img(sif_path+'CSIF_monthly_afr_2015{:0>2d}.tif'.format(i+1))[0]\n",
    "    sif16=read_img(sif_path+'CSIF_monthly_afr_2016{:0>2d}.tif'.format(i+1))[0]\n",
    "    sif1516_month[i]=(sif15+sif16)/2"
   ]
  },
  {
   "cell_type": "code",
   "execution_count": 11,
   "id": "9b1192d9",
   "metadata": {
    "ExecuteTime": {
     "end_time": "2024-06-08T12:06:28.352489Z",
     "start_time": "2024-06-08T12:04:45.649454Z"
    }
   },
   "outputs": [],
   "source": [
    "ndvi15_month=np.zeros((12,6500,7900))\n",
    "sif15_month=np.zeros((12,6500,7900))\n",
    "ndvi16_month=np.zeros((12,6500,7900))\n",
    "sif16_month=np.zeros((12,6500,7900))\n",
    "for i in range(12):\n",
    "    ndvi15_month[i]=read_img(ndvi_path+'NDVI_monthly_afr_2015{:0>2d}.tif'.format(i+1))[0]\n",
    "    ndvi16_month[i]=read_img(ndvi_path+'NDVI_monthly_afr_2016{:0>2d}.tif'.format(i+1))[0]\n",
    "    sif15_month[i]=read_img(sif_path+'CSIF_monthly_afr_2015{:0>2d}.tif'.format(i+1))[0]\n",
    "    sif16_month[i]=read_img(sif_path+'CSIF_monthly_afr_2016{:0>2d}.tif'.format(i+1))[0]"
   ]
  },
  {
   "cell_type": "markdown",
   "id": "ad5d2cfb",
   "metadata": {},
   "source": [
    "### monthly drought resistance"
   ]
  },
  {
   "cell_type": "code",
   "execution_count": 74,
   "id": "527f6f61",
   "metadata": {
    "ExecuteTime": {
     "end_time": "2024-05-24T07:18:09.991634Z",
     "start_time": "2024-05-24T07:17:43.809279Z"
    }
   },
   "outputs": [
    {
     "name": "stderr",
     "output_type": "stream",
     "text": [
      "C:\\Users\\dess\\AppData\\Local\\Temp\\ipykernel_26632\\663622836.py:8: RuntimeWarning: Mean of empty slice\n",
      "  pre_ndvi=np.nanmean(pre_ndvi,axis=0)\n",
      "C:\\Users\\dess\\AppData\\Local\\Temp\\ipykernel_26632\\663622836.py:10: RuntimeWarning: Mean of empty slice\n",
      "  pre_sif=np.nanmean(pre_sif,axis=0)\n"
     ]
    }
   ],
   "source": [
    "#ndvi and sif monthly in 2012-2014\n",
    "pre_ndvi=np.zeros((12,6500,7900))\n",
    "pre_sif=np.zeros((12,6500,7900))\n",
    "for i in range(12):\n",
    "    pre_ndvi[i]=ndvi12_14_month[i]*dr_mask1214[i]\n",
    "    pre_sif[i]=sif12_14_month[i]*dr_mask1214[i]\n",
    "pre_ndvi[pre_ndvi<=0]=np.nan\n",
    "pre_ndvi=np.nanmean(pre_ndvi,axis=0)\n",
    "pre_sif[pre_sif<=0]=np.nan\n",
    "pre_sif=np.nanmean(pre_sif,axis=0)"
   ]
  },
  {
   "cell_type": "code",
   "execution_count": 154,
   "id": "14bc4002",
   "metadata": {
    "ExecuteTime": {
     "end_time": "2024-05-25T14:05:46.999269Z",
     "start_time": "2024-05-25T14:03:43.729670Z"
    },
    "code_folding": []
   },
   "outputs": [
    {
     "name": "stderr",
     "output_type": "stream",
     "text": [
      "C:\\Users\\dess\\AppData\\Local\\Temp\\ipykernel_26632\\4054080801.py:19: RuntimeWarning: Mean of empty slice\n",
      "  veg=np.nanmean(veg,axis=0)\n"
     ]
    }
   ],
   "source": [
    "#ndvi and sif monthly in 2015,2016 and 2015-2016\n",
    "ndvi15=np.zeros((12,6500,7900))\n",
    "sif15=np.zeros((12,6500,7900))\n",
    "ndvi16=np.zeros((12,6500,7900))\n",
    "sif16=np.zeros((12,6500,7900))\n",
    "ndvi1516=np.zeros((12,6500,7900))\n",
    "sif1516=np.zeros((12,6500,7900))\n",
    "\n",
    "for i in range(12):\n",
    "    ndvi15[i]=ndvi15_month[i]*dr_mask15[i]\n",
    "    sif15[i]=sif15_month[i]*dr_mask15[i]\n",
    "    ndvi16[i]=ndvi16_month[i]*dr_mask16[i]\n",
    "    sif16[i]=sif16_month[i]*dr_mask16[i]\n",
    "    ndvi1516[i]=ndvi1516_month[i]*dr_mask1516[i]\n",
    "    sif1516[i]=sif1516_month[i]*dr_mask1516[i]\n",
    "\n",
    "def res(veg,pre):\n",
    "    veg[veg<=0]=np.nan\n",
    "    veg=np.nanmean(veg,axis=0)\n",
    "    pre[pre==0]=np.nan\n",
    "    res=veg/pre\n",
    "    res[np.isnan(res)]=0\n",
    "    return res\n",
    "\n",
    "res_ndvi15=res(ndvi15,pre_ndvi)\n",
    "res_ndvi16=res(ndvi16,pre_ndvi)\n",
    "res_ndvi1516=res(ndvi1516,pre_ndvi)\n",
    "res_sif15=res(sif15,pre_sif)\n",
    "res_sif16=res(sif16,pre_sif)\n",
    "res_sif1516=res(sif1516,pre_sif)"
   ]
  },
  {
   "cell_type": "code",
   "execution_count": 170,
   "id": "c654aaca",
   "metadata": {
    "ExecuteTime": {
     "end_time": "2024-05-26T05:11:14.551147Z",
     "start_time": "2024-05-26T05:10:57.579993Z"
    }
   },
   "outputs": [],
   "source": [
    "dt=read_img(spei_path+'csif_resistance_230321.tif')\n",
    "write_img(spei_path+'ndvi_resistance_2015_240525.tif',dt[4],dt[3],res_ndvi15)\n",
    "write_img(spei_path+'ndvi_resistance_2016_240525.tif',dt[4],dt[3],res_ndvi16)\n",
    "write_img(spei_path+'ndvi_resistance_1516_240525.tif',dt[4],dt[3],res_ndvi1516)\n",
    "\n",
    "write_img(spei_path+'sif_resistance_2015_240525.tif',dt[4],dt[3],res_sif15)\n",
    "write_img(spei_path+'sif_resistance_2016_240525.tif',dt[4],dt[3],res_sif16)\n",
    "write_img(spei_path+'sif_resistance_1516_240525.tif',dt[4],dt[3],res_sif1516)"
   ]
  },
  {
   "cell_type": "markdown",
   "id": "17f620d4",
   "metadata": {},
   "source": [
    "## monthly drought resistance，补充growth season mask"
   ]
  },
  {
   "cell_type": "code",
   "execution_count": 6,
   "id": "07f8d0c7",
   "metadata": {
    "ExecuteTime": {
     "end_time": "2024-06-08T11:14:10.183804Z",
     "start_time": "2024-06-08T11:14:09.344872Z"
    }
   },
   "outputs": [
    {
     "data": {
      "text/plain": [
       "(0.0, 12.0)"
      ]
     },
     "execution_count": 6,
     "metadata": {},
     "output_type": "execute_result"
    }
   ],
   "source": [
    "#calculation of growth seasons look at \"py_v5_03_VIPPHEN_EVI2 v004_240607\"\n",
    "season_path='//weili/User2/mxsun/CESS_230818/Resistance_monthly/growth_season/'\n",
    "gs_start=read_img(season_path+'VIPPHEN_EVI2_start-month_240607_sub.tif')[0]\n",
    "gs_end=read_img(season_path+'VIPPHEN_EVI2_end-month_240607_sub.tif')[0]\n",
    "np.min(gs_start),np.max(gs_start)"
   ]
  },
  {
   "cell_type": "code",
   "execution_count": 187,
   "id": "9b976707",
   "metadata": {
    "ExecuteTime": {
     "end_time": "2024-06-08T09:32:00.750152Z",
     "start_time": "2024-06-08T09:32:00.725159Z"
    }
   },
   "outputs": [
    {
     "data": {
      "text/plain": [
       "dtype('float32')"
      ]
     },
     "execution_count": 187,
     "metadata": {},
     "output_type": "execute_result"
    }
   ],
   "source": [
    "gs_start.dtype"
   ]
  },
  {
   "cell_type": "markdown",
   "id": "72608da4",
   "metadata": {},
   "source": [
    "### mask growth season"
   ]
  },
  {
   "cell_type": "code",
   "execution_count": 9,
   "id": "2d66921a",
   "metadata": {
    "ExecuteTime": {
     "end_time": "2024-06-08T11:47:34.779648Z",
     "start_time": "2024-06-08T11:20:05.536421Z"
    }
   },
   "outputs": [],
   "source": [
    "#dr_mask 加上growth season mask\n",
    "    #将生长期外的1全改为0\n",
    "#注意：北半球gs_start<gs_end,南半球gs_start>gs_end\n",
    "def growth_season_mask(dr_mask,gs_start,gs_end):\n",
    "    mask_to_keep=np.zeros((12,6500,7900))#ndarray of False as shape in (6500,7900).\n",
    "    for i in range(6500):\n",
    "        for j in range(7900):\n",
    "            start, end = int(gs_start[i,j]-1), int(gs_end[i,j]-1)# 数组索引从0开始，所以月份要减1\n",
    "            if start<end:#北半球\n",
    "                mask_to_keep[start:end+1,i,j]=1#假如gs_start值等于4，gs_end=10时，将dr_mask[:3,6500,7900]和dr_mask[11:,6500,7900]全改为0\n",
    "            else:#南半球\n",
    "                mask_to_keep[:end+1,i,j]=1\n",
    "                mask_to_keep[start:,i,j]=1\n",
    "    dr_mask=dr_mask * mask_to_keep\n",
    "    return dr_mask\n",
    "dr_mask1214=growth_season_mask(dr_mask1214,gs_start,gs_end)\n",
    "dr_mask15=growth_season_mask(dr_mask15,gs_start,gs_end)\n",
    "dr_mask16=growth_season_mask(dr_mask16,gs_start,gs_end)\n",
    "dr_mask1516=growth_season_mask(dr_mask1516,gs_start,gs_end)"
   ]
  },
  {
   "cell_type": "markdown",
   "id": "5781819a",
   "metadata": {},
   "source": [
    "### 计算drought resistance"
   ]
  },
  {
   "cell_type": "code",
   "execution_count": 12,
   "id": "410affa2",
   "metadata": {
    "ExecuteTime": {
     "end_time": "2024-06-08T12:27:07.729334Z",
     "start_time": "2024-06-08T12:26:35.205235Z"
    }
   },
   "outputs": [
    {
     "name": "stderr",
     "output_type": "stream",
     "text": [
      "C:\\Users\\dess\\AppData\\Local\\Temp\\ipykernel_29912\\663622836.py:8: RuntimeWarning: Mean of empty slice\n",
      "  pre_ndvi=np.nanmean(pre_ndvi,axis=0)\n",
      "C:\\Users\\dess\\AppData\\Local\\Temp\\ipykernel_29912\\663622836.py:10: RuntimeWarning: Mean of empty slice\n",
      "  pre_sif=np.nanmean(pre_sif,axis=0)\n"
     ]
    }
   ],
   "source": [
    "#ndvi and sif monthly in 2012-2014\n",
    "pre_ndvi=np.zeros((12,6500,7900))\n",
    "pre_sif=np.zeros((12,6500,7900))\n",
    "for i in range(12):\n",
    "    pre_ndvi[i]=ndvi12_14_month[i]*dr_mask1214[i]\n",
    "    pre_sif[i]=sif12_14_month[i]*dr_mask1214[i]\n",
    "pre_ndvi[pre_ndvi<=0]=np.nan\n",
    "pre_ndvi=np.nanmean(pre_ndvi,axis=0)\n",
    "pre_sif[pre_sif<=0]=np.nan\n",
    "pre_sif=np.nanmean(pre_sif,axis=0)"
   ]
  },
  {
   "cell_type": "code",
   "execution_count": 13,
   "id": "161bfcc0",
   "metadata": {
    "ExecuteTime": {
     "end_time": "2024-06-08T12:29:47.675671Z",
     "start_time": "2024-06-08T12:27:11.115170Z"
    }
   },
   "outputs": [
    {
     "name": "stderr",
     "output_type": "stream",
     "text": [
      "C:\\Users\\dess\\AppData\\Local\\Temp\\ipykernel_29912\\2350055163.py:19: RuntimeWarning: Mean of empty slice\n",
      "  veg=np.nanmean(veg,axis=0)\n"
     ]
    }
   ],
   "source": [
    "#ndvi and sif monthly in 2015,2016 and 2015-2016\n",
    "ndvi15=np.zeros((12,6500,7900))\n",
    "sif15=np.zeros((12,6500,7900))\n",
    "ndvi16=np.zeros((12,6500,7900))\n",
    "sif16=np.zeros((12,6500,7900))\n",
    "ndvi1516=np.zeros((12,6500,7900))\n",
    "sif1516=np.zeros((12,6500,7900))\n",
    "\n",
    "for i in range(12):\n",
    "    ndvi15[i]=ndvi15_month[i]*dr_mask15[i]\n",
    "    sif15[i]=sif15_month[i]*dr_mask15[i]\n",
    "    ndvi16[i]=ndvi16_month[i]*dr_mask16[i]\n",
    "    sif16[i]=sif16_month[i]*dr_mask16[i]\n",
    "    ndvi1516[i]=ndvi1516_month[i]*dr_mask1516[i]\n",
    "    sif1516[i]=sif1516_month[i]*dr_mask1516[i]\n",
    "\n",
    "def res(veg,pre):\n",
    "    veg[veg<=0]=np.nan\n",
    "    veg=np.nanmean(veg,axis=0)\n",
    "    pre[pre==0]=np.nan\n",
    "    res=veg/pre\n",
    "    res[np.isnan(res)]=0\n",
    "    return res\n",
    "\n",
    "res_ndvi15=res(ndvi15,pre_ndvi)\n",
    "res_ndvi16=res(ndvi16,pre_ndvi)\n",
    "res_ndvi1516=res(ndvi1516,pre_ndvi)\n",
    "res_sif15=res(sif15,pre_sif)\n",
    "res_sif16=res(sif16,pre_sif)\n",
    "res_sif1516=res(sif1516,pre_sif)"
   ]
  },
  {
   "cell_type": "code",
   "execution_count": 14,
   "id": "fc5a92c6",
   "metadata": {
    "ExecuteTime": {
     "end_time": "2024-06-08T12:30:11.514142Z",
     "start_time": "2024-06-08T12:29:54.467455Z"
    }
   },
   "outputs": [],
   "source": [
    "dt=read_img(spei_path+'csif_resistance_230321.tif')\n",
    "write_img(spei_path+'ndvi_resistance_gs_2015_240525.tif',dt[4],dt[3],res_ndvi15)\n",
    "write_img(spei_path+'ndvi_resistance_gs_2016_240525.tif',dt[4],dt[3],res_ndvi16)\n",
    "write_img(spei_path+'ndvi_resistance_gs_1516_240525.tif',dt[4],dt[3],res_ndvi1516)\n",
    "\n",
    "write_img(spei_path+'sif_resistance_gs_2015_240525.tif',dt[4],dt[3],res_sif15)\n",
    "write_img(spei_path+'sif_resistance_gs_2016_240525.tif',dt[4],dt[3],res_sif16)\n",
    "write_img(spei_path+'sif_resistance_gs_1516_240525.tif',dt[4],dt[3],res_sif1516)"
   ]
  },
  {
   "cell_type": "code",
   "execution_count": null,
   "id": "eba7c0b8",
   "metadata": {},
   "outputs": [],
   "source": []
  }
 ],
 "metadata": {
  "kernelspec": {
   "display_name": "Python 3 (ipykernel)",
   "language": "python",
   "name": "python3"
  },
  "language_info": {
   "codemirror_mode": {
    "name": "ipython",
    "version": 3
   },
   "file_extension": ".py",
   "mimetype": "text/x-python",
   "name": "python",
   "nbconvert_exporter": "python",
   "pygments_lexer": "ipython3",
   "version": "3.10.6"
  },
  "toc": {
   "base_numbering": 1,
   "nav_menu": {},
   "number_sections": true,
   "sideBar": false,
   "skip_h1_title": false,
   "title_cell": "Table of Contents",
   "title_sidebar": "Contents",
   "toc_cell": false,
   "toc_position": {
    "height": "571.858px",
    "left": "1529.95px",
    "top": "89.9479px",
    "width": "423.16px"
   },
   "toc_section_display": true,
   "toc_window_display": true
  },
  "varInspector": {
   "cols": {
    "lenName": 16,
    "lenType": 16,
    "lenVar": 40
   },
   "kernels_config": {
    "python": {
     "delete_cmd_postfix": "",
     "delete_cmd_prefix": "del ",
     "library": "var_list.py",
     "varRefreshCmd": "print(var_dic_list())"
    },
    "r": {
     "delete_cmd_postfix": ") ",
     "delete_cmd_prefix": "rm(",
     "library": "var_list.r",
     "varRefreshCmd": "cat(var_dic_list()) "
    }
   },
   "types_to_exclude": [
    "module",
    "function",
    "builtin_function_or_method",
    "instance",
    "_Feature"
   ],
   "window_display": false
  }
 },
 "nbformat": 4,
 "nbformat_minor": 5
}
