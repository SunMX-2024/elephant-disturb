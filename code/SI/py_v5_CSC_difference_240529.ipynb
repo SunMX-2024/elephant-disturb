{
 "cells": [
  {
   "cell_type": "code",
   "execution_count": 1,
   "id": "874006b1",
   "metadata": {
    "ExecuteTime": {
     "end_time": "2024-05-29T02:35:14.646592Z",
     "start_time": "2024-05-29T02:35:03.918752Z"
    }
   },
   "outputs": [],
   "source": [
    "import numpy as np\n",
    "import pandas as pd\n",
    "from sklearn import metrics\n",
    "from openpyxl import load_workbook\n",
    "from sklearn.tree import export_graphviz\n",
    "from sklearn.ensemble import RandomForestRegressor\n",
    "from netCDF4 import Dataset\n",
    "import matplotlib.pyplot as plt\n",
    "import multiprocessing\n",
    "import os\n",
    "import time\n",
    "import gloce as gc\n",
    "from osgeo import gdal\n",
    "from osgeo import gdalconst\n",
    "from mpl_toolkits.basemap import Basemap\n",
    "from glob import glob\n",
    "from math import ceil\n",
    "import seaborn as sns\n",
    "from scipy import stats\n",
    "from scipy.stats import gaussian_kde\n",
    "#return im_data, im_width, im_height, im_geotrans, im_proj\n",
    "def read_img(filename):\n",
    "    dt = gdal.Open(filename)\n",
    "    im_width = dt.RasterXSize\n",
    "    im_height = dt.RasterYSize\n",
    "    im_bands = dt.RasterCount\n",
    "    im_geotrans = dt.GetGeoTransform()\n",
    "    im_proj = dt.GetProjection()\n",
    "    im_data = dt.ReadAsArray(0,0,im_width,im_height)\n",
    "    return im_data, im_width, im_height, im_geotrans, im_proj\n",
    "def write_img(filename, im_proj, im_geotrans, im_data):\n",
    "    if 'int8' in im_data.dtype.name:\n",
    "        datatype = gdal.GDT_Byte\n",
    "    elif 'int16' in im_data.dtype.name:\n",
    "        datatype = gdal.GDT_UInt16\n",
    "    else:\n",
    "        datatype = gdal.GDT_Float32\n",
    "    if len(im_data.shape) == 3:\n",
    "        im_bands, im_height, im_width = im_data.shape\n",
    "    else:\n",
    "        im_bands, (im_height, im_width) = 1, im_data.shape\n",
    "    driver = gdal.GetDriverByName(\"GTiff\")\n",
    "    dataset = driver.Create(filename, im_width, im_height, im_bands, datatype)\n",
    "    dataset.SetGeoTransform(im_geotrans)\n",
    "    dataset.SetProjection(im_proj)\n",
    "    if im_bands == 1:\n",
    "        dataset.GetRasterBand(1).WriteArray(im_data)\n",
    "    else:\n",
    "        for i in range(im_bands):\n",
    "            dataset.GetRasterBand(i + 1).WriteArray(im_data[i])\n",
    "spei_path='//weili/User2/mxsun/CESS_230818/SPEI_highRes/'\n",
    "sm_path='//weili/User2/mxsun/CESS_230818/SPEI_highRes/RF/'\n",
    "soil_path='//weili/User2/mxsun/CESS_230818/SPEI_highRes/RF/'\n",
    "drv_path='//weili/User2/mxsun/CESS_230818/Pattern_drive/'"
   ]
  },
  {
   "cell_type": "code",
   "execution_count": 3,
   "id": "0a4376fa",
   "metadata": {
    "ExecuteTime": {
     "end_time": "2024-05-29T02:44:45.906352Z",
     "start_time": "2024-05-29T02:44:39.458326Z"
    }
   },
   "outputs": [
    {
     "data": {
      "text/plain": [
       "<osgeo.gdal.Dataset; proxy of <Swig Object of type 'GDALDatasetShadow *' at 0x0000017336F560D0> >"
      ]
     },
     "execution_count": 3,
     "metadata": {},
     "output_type": "execute_result"
    }
   ],
   "source": [
    "csc_path='//weili/share2/canopy_structural_complexity/25047371/global_forest_csc/'\n",
    "def GetExtent(infile):\n",
    "    ds = gdal.Open(infile)\n",
    "    geotrans = ds.GetGeoTransform()\n",
    "    xsize = ds.RasterXSize\n",
    "    ysize = ds.RasterYSize\n",
    "    min_x,max_y = geotrans[0],geotrans[3]\n",
    "    max_x,min_y = geotrans[0]+xsize*geotrans[1],geotrans[3]+ysize*geotrans[5]\n",
    "    ds = None\n",
    "    return min_x,max_y,max_x,min_y\n",
    "tt=GetExtent(spei_path+'csif_resistance_230321.tif')\n",
    "gdal.Warp(spei_path+'global_forest_csc_afr_240529.tif',\n",
    "          csc_path+'global_forest_csc.tif',\n",
    "          dstSRS='EPSG:4326',\n",
    "          outputBounds = [tt[0],tt[3],tt[2],tt[1]],\n",
    "          xRes=0.01,\n",
    "          yRes=0.01,\n",
    "          targetAlignedPixels=True,\n",
    "          resampleAlg = gdalconst.GRA_Average,\n",
    "          creationOptions = [\"COMPRESS=LZW\"])"
   ]
  },
  {
   "cell_type": "code",
   "execution_count": 5,
   "id": "c45226c5",
   "metadata": {
    "ExecuteTime": {
     "end_time": "2024-05-29T02:49:31.356783Z",
     "start_time": "2024-05-29T02:49:30.396583Z"
    }
   },
   "outputs": [
    {
     "name": "stdout",
     "output_type": "stream",
     "text": [
      "csc: -3.4028235e+38 11.823312\n"
     ]
    }
   ],
   "source": [
    "csc=read_img(spei_path+'global_forest_csc_afr_240529.tif')[0]\n",
    "print(\"csc:\",csc.min(),csc.max())\n",
    "csc[csc<=0]=np.nan"
   ]
  },
  {
   "cell_type": "code",
   "execution_count": 6,
   "id": "bcaa1ff8",
   "metadata": {
    "ExecuteTime": {
     "end_time": "2024-05-29T02:49:38.583789Z",
     "start_time": "2024-05-29T02:49:35.188751Z"
    }
   },
   "outputs": [
    {
     "name": "stdout",
     "output_type": "stream",
     "text": [
      "dem -9999 5438\n",
      "slope -3.402823e+38 79.12291\n"
     ]
    }
   ],
   "source": [
    "dem=read_img(spei_path+'gtopoDEM_afr_001.tif')[0]\n",
    "slope=read_img(spei_path+'gtopoSlope_afr_001.tif')[0]\n",
    "print('dem',dem.min(),dem.max())\n",
    "print('slope',slope.min(),slope.max())\n",
    "dem=dem.astype(np.float32)\n",
    "dem[dem==-9999]=np.nan\n",
    "slope[slope==0]=np.nan"
   ]
  },
  {
   "cell_type": "code",
   "execution_count": 7,
   "id": "9cb5c625",
   "metadata": {
    "ExecuteTime": {
     "end_time": "2024-05-29T02:49:45.567600Z",
     "start_time": "2024-05-29T02:49:40.858401Z"
    }
   },
   "outputs": [],
   "source": [
    "DEAA=read_img(spei_path+'SPEI_deaa001_240504.tif')[0]\n",
    "DAA=read_img(spei_path+'SPEI_daa001_240504.tif')[0]\n",
    "DEAA[DEAA==0]=np.nan\n",
    "DAA[DAA==0]=np.nan"
   ]
  },
  {
   "cell_type": "code",
   "execution_count": 8,
   "id": "309cfe16",
   "metadata": {
    "ExecuteTime": {
     "end_time": "2024-05-29T02:49:49.289368Z",
     "start_time": "2024-05-29T02:49:47.549242Z"
    }
   },
   "outputs": [
    {
     "data": {
      "text/plain": [
       "(1.0, 1.0)"
      ]
     },
     "execution_count": 8,
     "metadata": {},
     "output_type": "execute_result"
    }
   ],
   "source": [
    "hfp = read_img(spei_path+'hfp2018_Afirca_001_230525.tif')[0]\n",
    "hfp[hfp<=15]=1\n",
    "hfp[hfp>1]=np.nan\n",
    "mask=hfp#*forest_mask\n",
    "mask[~np.isnan(mask)]=1\n",
    "np.nanmin(mask),np.nanmax(mask)"
   ]
  },
  {
   "cell_type": "markdown",
   "id": "43008079",
   "metadata": {},
   "source": [
    "# difference"
   ]
  },
  {
   "cell_type": "markdown",
   "id": "39f787f4",
   "metadata": {},
   "source": [
    "## slide window"
   ]
  },
  {
   "cell_type": "code",
   "execution_count": 9,
   "id": "b48f1901",
   "metadata": {
    "ExecuteTime": {
     "end_time": "2024-05-29T02:51:13.337259Z",
     "start_time": "2024-05-29T02:51:13.123328Z"
    }
   },
   "outputs": [
    {
     "data": {
      "text/plain": [
       "['Forest-structure_DEAA_csc_0.25deg_240504.npy',\n",
       " 'Forest-structure_DAA_csc_0.25deg_240504.npy']"
      ]
     },
     "execution_count": 9,
     "metadata": {},
     "output_type": "execute_result"
    }
   ],
   "source": [
    "\"\"\"\n",
    "2023/11/25\n",
    "supply paired sites methods.\n",
    "Be notes the  suppled detail locates should be consistence with all factors.\n",
    "\"\"\"\n",
    "# current shape:(6500,7900)\n",
    "#0.01deg to 0.25 deg window size=625 pixels\n",
    "#6500/25,7900/25...(260,316)\n",
    "def slide_window_mean(s,dist,res):\n",
    "    #s: window size\n",
    "    #dist: disturb array\n",
    "    #res: resistance and resilience array\n",
    "    mean_arr=np.zeros((260,316))\n",
    "    weight_arr=np.zeros((260,316))\n",
    "    loc=np.zeros((260,316)) #record the location of supplied sites\n",
    "    sl=np.ones((25,25))\n",
    "    for i in range(260):\n",
    "        #print(\"sliding\", i, \"line...\")\n",
    "        for j in range(316):\n",
    "            bloc_dist=dist[i*s:(i+1)*s,j*s:(j+1)*s]\n",
    "            res_dist=res[i*s:(i+1)*s,j*s:(j+1)*s]\n",
    "            res_mask=np.multiply(bloc_dist,res_dist)#product restance array controled by window\n",
    "            count=np.count_nonzero(~np.isnan(res_mask))\n",
    "            weight=count/625#calculate the weight\n",
    "            if weight>0.05:\n",
    "                weight_arr[i,j]=weight\n",
    "                dt=np.where(res_mask!=np.nan,res_mask,np.nan)\n",
    "                mean_arr[i,j]=np.nanmean(res_mask)#calculate the mean value\n",
    "                loc[i,j]=9\n",
    "            else:\n",
    "                bloc_dist_a=[] #should be 8 nums [-1,0],[0,-1],[-1,-1],[1,0],[0,1],[1,1],[-1,1],[1,-1]\n",
    "                res_dist_a=[] #should be 8 nums\n",
    "                res_mask_pool=[]\n",
    "                weight_pool=[]\n",
    "                for m in [-1,1]:\n",
    "                    bloc_dist_a.append(dist[(i+m)*s:((i+m)+1)*s,j*s:(j+1)*s])\n",
    "                    bloc_dist_a.append(dist[i*s:(i+1)*s,(j+m)*s:((j+m)+1)*s])\n",
    "                    bloc_dist_a.append(dist[(i+m)*s:((i+m)+1)*s,(j+m)*s:((j+m)+1)*s])\n",
    "                    res_dist_a.append(res[(i+m)*s:((i+m)+1)*s,j*s:(j+1)*s])\n",
    "                    res_dist_a.append(res[i*s:(i+1)*s,(j+m)*s:((j+m)+1)*s])\n",
    "                    res_dist_a.append(res[(i+m)*s:((i+m)+1)*s,(j+m)*s:((j+m)+1)*s])\n",
    "                bloc_dist_a.append(dist[(i-1)*s:((i-1)+1)*s,(j+1)*s:((j+1)+1)*s])\n",
    "                bloc_dist_a.append(dist[(i+1)*s:((i+1)+1)*s,(j-1)*s:((j-1)+1)*s])\n",
    "                res_dist_a.append(res[(i-1)*s:((i-1)+1)*s,(j+1)*s:((j+1)+1)*s])\n",
    "                res_dist_a.append(res[(i+1)*s:((i+1)+1)*s,(j-1)*s:((j-1)+1)*s])\n",
    "                #the smooth order of a 9 value array is [-1,0],[0,-1],[-1,-1],[1,0],[0,1],[1,1],[-1,1],[1,-1]\n",
    "                for n in range(len(bloc_dist_a)): #the length is 8\n",
    "                    res_mask_pool.append(np.multiply(bloc_dist_a[n],res_dist_a[n]))\n",
    "                    weight_pool.append(np.count_nonzero(~np.isnan(res_mask_pool[n]))/625)#calculate the weight\n",
    "                key=np.argmax(weight_pool) \n",
    "                # Key used to loc the supplied direction, the key-value consistience with [-1,0],[0,-1],[-1,-1],[1,0],[0,1],[1,1],[-1,1],[1,-1]\n",
    "                if weight_pool[key] > 0.05:\n",
    "                    weight_arr[i,j]=weight_pool[key]\n",
    "                    dt1=np.where(res_mask_pool[key]!=np.nan,res_mask_pool[key],np.nan)\n",
    "                    mean_arr[i,j]=np.nanmean(dt1)#calculate the mean value\n",
    "                    loc[i,j]=key+1\n",
    "                else:\n",
    "                    mean_arr[i,j]=np.nan#calculate the mean value\n",
    "                    loc[i,j]=np.nan\n",
    "    return mean_arr\n",
    "\n",
    "dist_pool=[DEAA*mask,DAA*mask]\n",
    "res_pool=[csc] #protect need conver to fraction\n",
    "dist_name=['DEAA','DAA']\n",
    "res_name=['csc']\n",
    "\n",
    "# protect 最后直接加上去\n",
    "aa=[]\n",
    "aa_name=[]\n",
    "for i in range(2):\n",
    "    el=[25,dist_pool[i],csc]\n",
    "    aa.append(el)\n",
    "    aa_name.append('Forest-structure_{}_csc_0.25deg_240504.npy'.format(dist_name[i]))\n",
    "aa_name"
   ]
  },
  {
   "cell_type": "code",
   "execution_count": 10,
   "id": "a1c3432a",
   "metadata": {
    "ExecuteTime": {
     "end_time": "2024-05-29T02:51:43.358959Z",
     "start_time": "2024-05-29T02:51:23.213030Z"
    }
   },
   "outputs": [
    {
     "name": "stdout",
     "output_type": "stream",
     "text": [
      "执行任务0 (61396)...\n",
      "执行任务1 (61396)...\n"
     ]
    }
   ],
   "source": [
    "for i in range(2):\n",
    "    print('执行任务%s (%s)...' % (i, os.getpid()))\n",
    "    kk=slide_window_mean(aa[i][0],aa[i][1],aa[i][2])\n",
    "    np.save(drv_path+aa_name[i],kk)"
   ]
  },
  {
   "cell_type": "markdown",
   "id": "fe417758",
   "metadata": {},
   "source": [
    "## 成对样点求Δ"
   ]
  },
  {
   "cell_type": "code",
   "execution_count": 11,
   "id": "1c67abd6",
   "metadata": {
    "ExecuteTime": {
     "end_time": "2024-05-29T02:51:45.999192Z",
     "start_time": "2024-05-29T02:51:45.859237Z"
    }
   },
   "outputs": [],
   "source": [
    "######################mask DEM and Slope############################\n",
    "# check the Δ dem and Δ slope distribution\n",
    "dem1=np.load(drv_path+'Forest-structure_DEAA_dem_0.25deg_240504.npy',allow_pickle=True)\n",
    "dem2=np.load(drv_path+'Forest-structure_DAA_dem_0.25deg_240504.npy',allow_pickle=True)\n",
    "dem_differ=dem1-dem2\n",
    "\n",
    "slo1=np.load(drv_path+'Forest-structure_DEAA_slope_0.25deg_240504.npy',allow_pickle=True)\n",
    "slo2=np.load(drv_path+'Forest-structure_DAA_slope_0.25deg_240504.npy',allow_pickle=True)\n",
    "slo_differ=slo1-slo2\n",
    "\n",
    "dem_differ[dem_differ<-200]=np.nan\n",
    "dem_differ[dem_differ>200]=np.nan\n",
    "dem_differ[~np.isnan(dem_differ)]=1\n",
    "slo_differ[slo_differ<-10]=np.nan\n",
    "slo_differ[slo_differ>10]=np.nan\n",
    "slo_differ[~np.isnan(slo_differ)]=1\n",
    "# 每一层数据位置对应,建立mask\n",
    "dd_mask=np.ones((260,316))*dem_differ*slo_differ"
   ]
  },
  {
   "cell_type": "code",
   "execution_count": 12,
   "id": "77b44bfe",
   "metadata": {
    "ExecuteTime": {
     "end_time": "2024-05-29T02:52:14.080645Z",
     "start_time": "2024-05-29T02:52:14.008668Z"
    }
   },
   "outputs": [
    {
     "data": {
      "text/plain": [
       "(260, 316)"
      ]
     },
     "execution_count": 12,
     "metadata": {},
     "output_type": "execute_result"
    }
   ],
   "source": [
    "#res_name=['csc','th_Lang','tc_planet','tc_Hansen10']\n",
    "delta=[]\n",
    "for i in range(2):\n",
    "    f1=np.load(drv_path+'Forest-structure_DEAA_csc_0.25deg_240504.npy',allow_pickle=True)*dd_mask\n",
    "    f2=np.load(drv_path+'Forest-structure_DAA_csc_0.25deg_240504.npy',allow_pickle=True)*dd_mask\n",
    "    ff=f1-f2\n",
    "    delta.append(ff)\n",
    "delta[0].shape"
   ]
  },
  {
   "cell_type": "code",
   "execution_count": 13,
   "id": "0af7f0ab",
   "metadata": {
    "ExecuteTime": {
     "end_time": "2024-05-29T02:52:18.769615Z",
     "start_time": "2024-05-29T02:52:18.753621Z"
    }
   },
   "outputs": [
    {
     "data": {
      "text/plain": [
       "(-1.5449447631835938, 1.6559171676635742)"
      ]
     },
     "execution_count": 13,
     "metadata": {},
     "output_type": "execute_result"
    }
   ],
   "source": [
    "np.nanmin(delta[0]),np.nanmax(delta[0])"
   ]
  },
  {
   "cell_type": "code",
   "execution_count": 14,
   "id": "54d1054b",
   "metadata": {
    "ExecuteTime": {
     "end_time": "2024-05-29T02:52:28.200719Z",
     "start_time": "2024-05-29T02:52:28.182727Z"
    }
   },
   "outputs": [],
   "source": [
    "def kill_nan(dt):\n",
    "    a=dt.ravel()\n",
    "    a=a[~np.isnan(a)]\n",
    "    a=list(a)\n",
    "    return a\n",
    "\n",
    "tree_delta=[]\n",
    "for i in range(2):\n",
    "    tree_delta.append(kill_nan(delta[i]))"
   ]
  },
  {
   "cell_type": "code",
   "execution_count": 16,
   "id": "a23b77c7",
   "metadata": {
    "ExecuteTime": {
     "end_time": "2024-05-29T02:52:44.336470Z",
     "start_time": "2024-05-29T02:52:44.314477Z"
    }
   },
   "outputs": [
    {
     "data": {
      "text/plain": [
       "[0.0068171137784426555, 0.0068171137784426555]"
      ]
     },
     "execution_count": 16,
     "metadata": {},
     "output_type": "execute_result"
    }
   ],
   "source": [
    "#计算标准误方法2\n",
    "#res_name=['treeH','th_Lang','tc_planet','tc_Hansen10','Bio']\n",
    "se=[]\n",
    "for i in range(2):\n",
    "    se.append(stats.sem(tree_delta[i]))\n",
    "se"
   ]
  },
  {
   "cell_type": "code",
   "execution_count": 17,
   "id": "77de6962",
   "metadata": {
    "ExecuteTime": {
     "end_time": "2024-05-29T02:52:50.503722Z",
     "start_time": "2024-05-29T02:52:50.491727Z"
    }
   },
   "outputs": [
    {
     "data": {
      "text/plain": [
       "[0.06413218542166195, 0.06413218542166195]"
      ]
     },
     "execution_count": 17,
     "metadata": {},
     "output_type": "execute_result"
    }
   ],
   "source": [
    "mean=[]\n",
    "for i in range(2):\n",
    "    mean.append(np.mean(tree_delta[i]))\n",
    "mean"
   ]
  },
  {
   "cell_type": "markdown",
   "id": "fd844293",
   "metadata": {},
   "source": [
    "## significants"
   ]
  },
  {
   "cell_type": "code",
   "execution_count": 18,
   "id": "6aaab5f6",
   "metadata": {
    "ExecuteTime": {
     "end_time": "2024-05-29T02:53:22.233513Z",
     "start_time": "2024-05-29T02:53:22.140543Z"
    }
   },
   "outputs": [
    {
     "data": {
      "text/plain": [
       "[1.5191090189005385e-17, 1.5191090189005385e-17]"
      ]
     },
     "execution_count": 18,
     "metadata": {},
     "output_type": "execute_result"
    }
   ],
   "source": [
    "pp_value=[]\n",
    "\n",
    "def del_nan(data,data1):\n",
    "    aa=np.where(np.isnan(data.ravel()))\n",
    "    bb=np.where(np.isnan(data1.ravel()))\n",
    "    kk=np.concatenate((aa,bb),axis=1)\n",
    "    yy=np.unique(kk)\n",
    "    data=np.delete(data.ravel(),yy)\n",
    "    data1=np.delete(data1.ravel(),yy)\n",
    "    return data, data1\n",
    "\n",
    "for i in range(2):\n",
    "    f1=np.load(drv_path+'Forest-structure_DEAA_csc_0.25deg_240504.npy',allow_pickle=True)*dd_mask\n",
    "    f2=np.load(drv_path+'Forest-structure_DAA_csc_0.25deg_240504.npy',allow_pickle=True)*dd_mask\n",
    "    ddt=del_nan(f1,f2)\n",
    "    sta,p=stats.wilcoxon(ddt[0],ddt[1])\n",
    "    pp_value.append(p)\n",
    "pp_value #p value of ndvi_res and csif_res"
   ]
  },
  {
   "cell_type": "code",
   "execution_count": 35,
   "id": "c454f330",
   "metadata": {
    "ExecuteTime": {
     "end_time": "2024-05-29T05:39:14.384989Z",
     "start_time": "2024-05-29T05:39:13.565397Z"
    }
   },
   "outputs": [
    {
     "name": "stderr",
     "output_type": "stream",
     "text": [
      "No artists with labels found to put in legend.  Note that artists whose label start with an underscore are ignored when legend() is called with no argument.\n",
      "No artists with labels found to put in legend.  Note that artists whose label start with an underscore are ignored when legend() is called with no argument.\n"
     ]
    },
    {
     "data": {
      "image/png": "[encoded data removed]",
      "text/plain": [
       "<Figure size 1200x400 with 4 Axes>"
      ]
     },
     "metadata": {
      "image/png": {
       "height": 432,
       "width": 1025
      }
     },
     "output_type": "display_data"
    }
   ],
   "source": [
    "# ['treeH','tc_planet']\n",
    "#['treeH','th_Lange','tc_planet','tc_Hansen10','Bio','et','lai']\n",
    "data_th=tree_delta[0]\n",
    "data_pp_th=pp_value[0]\n",
    "data_tc=tree_delta[1]\n",
    "data_pp_tc=pp_value[1]\n",
    "\n",
    "data=[data_th,data_tc]\n",
    "pp=[data_pp_th,data_pp_tc]\n",
    "\n",
    "import gloce as gc\n",
    "from scipy.stats import gaussian_kde\n",
    "import matplotlib.colors as mcolors\n",
    "import matplotlib\n",
    "import matplotlib.pyplot as plt\n",
    "%matplotlib inline\n",
    "%config InlineBackend.figure_format = 'retina'\n",
    "fig = plt.figure(figsize=(12,4)) ##width, height default(8,6)\n",
    "plt.subplots_adjust(wspace=0.25,hspace=0.02)\n",
    "#fig.subplots_adjust(wspace=0.2,hspace=0.4, left=None, bottom=None, right=None, top=None)\n",
    "font = {'family': 'sans-serif',\n",
    "        'sans-serif': 'Helvetica',\n",
    "        'weight': 'normal',\n",
    "        'size': 18}\n",
    "plt.rc('font', **font)  # pass in the font dict as kwargs\n",
    "cl1 = np.array([(47,85,151)])#,(91,155,213)\n",
    "cl2 = np.array([(22,142,88)])#,(146,208,80)\n",
    "cl=[cl1/255,cl2/255]\n",
    "#cl=['C0','salmon']\n",
    "#colors = ['coral','yellowgreen','green','orange']\n",
    "#lc3 = ['NF_BB','F_BB','F_NBB','NF_NBB']\n",
    "#fig, axs=plt.subplots(2,2,sharex=True,sharey=True)\n",
    "label1=['TH from Potapov $\\mathit{et}$ $\\mathit{al.}$','TH from Lang $\\mathit{et}$ $\\mathit{al.}$']\n",
    "label2=['TC from Reiner $\\mathit{et}$ $\\mathit{al.}$','TC from Hansen $\\mathit{et}$ $\\mathit{al.}$']\n",
    "label=[label1,label2]\n",
    "tx=['(m)','(%)']\n",
    "for i in range(2):\n",
    "    ax = fig.add_subplot(1,2,i+1)\n",
    "    x=np.linspace(-2,2,1000)\n",
    "    mean=np.nanmean(data[i])\n",
    "    delta_rav=gc.nanravel(data[i])\n",
    "    kenal=gaussian_kde(delta_rav)\n",
    "    z=kenal.evaluate(x)\n",
    "    z_mean=kenal.evaluate(mean)\n",
    "    ax.plot(x,z,lw=3,color=cl[i])#,label=label[i]\n",
    "    ax.fill_between(x,0,z,facecolor=cl[i],alpha=0.2)\n",
    "    #ax.fill_between(np.linspace(0,15,500),0,kenal.evaluate(np.linspace(0,15,500)),facecolor=cl[i],alpha=0.2)\n",
    "    #sns.distplot(data[i],bins = 100,hist = True,kde = True,rug = False,norm_hist=False,color = 'green')\n",
    "    ax.vlines(mean,0,z_mean,lw=2,ls='--',color=cl[i])\n",
    "    if pp[i]<0.001:\n",
    "        #ax.text(0.73,0.89-j*0.09, '{:.2f} ***'.format(mean), fontsize=16,transform = ax.transAxes,color=cl[i][j])\n",
    "        ax.text(0.73,0.89, 'p<0.001'.format(mean), fontsize=14,transform = ax.transAxes,color=cl[i])\n",
    "    elif pp[i]<0.01:\n",
    "        ax.text(0.63,0.89, '{:.2f} **'.format(mean), fontsize=14,transform = ax.transAxes,color=cl[i])\n",
    "    elif pp[i]<0.05:\n",
    "        ax.text(0.63,0.89, '{:.2f} *'.format(mean), fontsize=14,transform = ax.transAxes,color=cl[i])\n",
    "    else:\n",
    "        ax.text(0.63,0.89, '{:.3f} (p={:.2f})'.format(mean,data_pp[i]), fontsize=14,transform = ax.transAxes,color=cl[i])\n",
    "    if i ==0:\n",
    "        ax.vlines(0,0,2,lw=2,ls='--',color='black')\n",
    "        ax.set_ylim(0,2)\n",
    "        ax.set_yticks(np.arange(0,2.1,1))\n",
    "        ax.set_xlim(-0.5,0.5)\n",
    "        ax.set_xticks(np.arange(-0.5,0.51,0.5))\n",
    "        ax=plt.gca()\n",
    "        ax.yaxis.set_ticks_position('left')\n",
    "        ax.spines['left'].set_position(('data',-0.51))\n",
    "        ax.xaxis.set_ticks_position('bottom')\n",
    "        ax.spines['bottom'].set_position(('data',-0.2))\n",
    "        ax.set_xlabel('$\\Delta$CSC',labelpad=10)\n",
    "    else:\n",
    "        ax.vlines(0,0,2,lw=2,ls='--',color='black')\n",
    "        ax.set_ylim(0,2)\n",
    "        ax.set_yticks(np.arange(0,2.1,1))\n",
    "        ax.set_xlim(-0.5,0.5)\n",
    "        ax.set_xticks(np.arange(-0.5,0.51,0.5))\n",
    "        ax=plt.gca()\n",
    "        ax.yaxis.set_ticks_position('left')\n",
    "        ax.spines['left'].set_position(('data',-0.51))\n",
    "        ax.xaxis.set_ticks_position('bottom')\n",
    "        ax.spines['bottom'].set_position(('data',-0.2))\n",
    "        ax.set_xlabel('$\\Delta$TC (%)',labelpad=10)\n",
    "    ax.legend(fontsize=14,loc='upper left',frameon=False,handlelength=1)\n",
    "    ax.spines['right'].set_visible(False)\n",
    "    ax.spines['top'].set_visible(False)\n",
    "    #ax.spines['bottom'].set_visible(False)\n",
    "    ax.set_ylabel('Propability density',labelpad=10)\n",
    "    \n",
    "    ax.xaxis.label.set_size(18)\n",
    "    ax.xaxis.set_tick_params(width=2)\n",
    "\n",
    "    ax.tick_params(labelsize=14)\n",
    "    ax.yaxis.label.set_size(18)\n",
    "    ax.yaxis.set_tick_params(width=2)\n",
    "    ax.spines['left'].set_linewidth(2)\n",
    "    ax.spines['bottom'].set_linewidth(2)\n",
    "#添加箱线图----------------------------\n",
    "    if i ==0:\n",
    "        ax1=fig.add_axes([0.122,0.015,0.35,0.12])#左，底，宽，高\n",
    "        ax1.set_xlim(-0.5,0.5)\n",
    "        ax1.set_xticks(np.arange(-0.5,0.51,0.5))\n",
    "        ax1.axis('off')\n",
    "    else:\n",
    "        ax1=fig.add_axes([0.55,0.015,0.35,0.12])#左，底，宽，高\n",
    "        ax1.set_xlim(-0.5,0.5)\n",
    "        ax1.set_xticks(np.arange(-0.5,0.51,0.5))\n",
    "        ax1.axis('off')\n",
    "    ax1.spines['top'].set_visible(False)\n",
    "    ax1.spines['right'].set_visible(False)\n",
    "    ax1.spines['left'].set_visible(False)\n",
    "    ax1.tick_params(bottom=False,top=False, left=False, right=False)#隐藏刻度线\n",
    "    #ax.spines['bottom'].set_visible(False)\n",
    "    bplot=ax1.boxplot(data[i],\n",
    "                      vert=False,\n",
    "                      whis=(10,90),                \n",
    "                      widths=0.3,\n",
    "                      patch_artist=True,\n",
    "                      showmeans=False,\n",
    "                      meanprops = {'marker':'o','markerfacecolor':cl[i],\"markeredgecolor\":cl[i],\"markersize\":15,\"alpha\":0}, # 设置均值点的属性，点的形状、填充色\n",
    "                      medianprops={'linewidth':'0.5',\"color\":cl[i],\"alpha\":0},\n",
    "                      boxprops={\"facecolor\": 'none', \"edgecolor\": cl[i],\"linewidth\":2,\"alpha\":1},\n",
    "                      capprops=None,\n",
    "                      whiskerprops={'linewidth':'2','color':cl[i]},\n",
    "                      showcaps=False,# 是否显示箱线图顶端和末端的两条线，默认显示；\n",
    "                      showfliers = False,\n",
    "                      flierprops = {'marker':'+','markersize':'3','markeredgecolor':cl[i],'color':cl[i]})\n",
    "    \n",
    "#rect = ax.patch\n",
    "#rect.set_facecolor((202/255,233/255,246/255))\n",
    "#fig.savefig(\"E:/iCloudDrive/博后工作/文章/Elephant_disturb/Fig/reviseV2/Fig2_c-d.tif\", dpi=600, bbox_inches = 'tight')"
   ]
  },
  {
   "cell_type": "code",
   "execution_count": null,
   "id": "068b7f28",
   "metadata": {},
   "outputs": [],
   "source": []
  }
 ],
 "metadata": {
  "kernelspec": {
   "display_name": "Python 3 (ipykernel)",
   "language": "python",
   "name": "python3"
  },
  "language_info": {
   "codemirror_mode": {
    "name": "ipython",
    "version": 3
   },
   "file_extension": ".py",
   "mimetype": "text/x-python",
   "name": "python",
   "nbconvert_exporter": "python",
   "pygments_lexer": "ipython3",
   "version": "3.10.6"
  },
  "toc": {
   "base_numbering": 1,
   "nav_menu": {},
   "number_sections": true,
   "sideBar": false,
   "skip_h1_title": false,
   "title_cell": "Table of Contents",
   "title_sidebar": "Contents",
   "toc_cell": false,
   "toc_position": {
    "height": "486.319px",
    "left": "1674px",
    "top": "91.063px",
    "width": "424.861px"
   },
   "toc_section_display": true,
   "toc_window_display": true
  },
  "varInspector": {
   "cols": {
    "lenName": 16,
    "lenType": 16,
    "lenVar": 40
   },
   "kernels_config": {
    "python": {
     "delete_cmd_postfix": "",
     "delete_cmd_prefix": "del ",
     "library": "var_list.py",
     "varRefreshCmd": "print(var_dic_list())"
    },
    "r": {
     "delete_cmd_postfix": ") ",
     "delete_cmd_prefix": "rm(",
     "library": "var_list.r",
     "varRefreshCmd": "cat(var_dic_list()) "
    }
   },
   "types_to_exclude": [
    "module",
    "function",
    "builtin_function_or_method",
    "instance",
    "_Feature"
   ],
   "window_display": false
  }
 },
 "nbformat": 4,
 "nbformat_minor": 5
}
