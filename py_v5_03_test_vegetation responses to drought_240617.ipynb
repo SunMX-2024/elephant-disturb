{
 "cells": [
  {
   "cell_type": "code",
   "execution_count": 1,
   "id": "4f6e41fa",
   "metadata": {
    "ExecuteTime": {
     "end_time": "2024-06-17T06:29:00.126192Z",
     "start_time": "2024-06-17T06:28:49.858031Z"
    }
   },
   "outputs": [],
   "source": [
    "import numpy as np\n",
    "import pandas as pd\n",
    "from sklearn import metrics\n",
    "from openpyxl import load_workbook\n",
    "from sklearn.tree import export_graphviz\n",
    "from sklearn.ensemble import RandomForestRegressor\n",
    "from netCDF4 import Dataset\n",
    "import matplotlib.pyplot as plt\n",
    "import multiprocessing\n",
    "import os\n",
    "import time\n",
    "import gloce as gc\n",
    "from osgeo import gdal\n",
    "from osgeo import gdalconst\n",
    "from mpl_toolkits.basemap import Basemap\n",
    "from glob import glob\n",
    "from math import ceil\n",
    "import seaborn as sns\n",
    "from scipy import stats\n",
    "from scipy.stats import gaussian_kde\n",
    "#return im_data, im_width, im_height, im_geotrans, im_proj\n",
    "def read_img(filename):\n",
    "    dt = gdal.Open(filename)\n",
    "    im_width = dt.RasterXSize\n",
    "    im_height = dt.RasterYSize\n",
    "    im_bands = dt.RasterCount\n",
    "    im_geotrans = dt.GetGeoTransform()\n",
    "    im_proj = dt.GetProjection()\n",
    "    im_data = dt.ReadAsArray(0,0,im_width,im_height)\n",
    "    return im_data, im_width, im_height, im_geotrans, im_proj\n",
    "def write_img(filename, im_proj, im_geotrans, im_data):\n",
    "    if 'int8' in im_data.dtype.name:\n",
    "        datatype = gdal.GDT_Byte\n",
    "    elif 'int16' in im_data.dtype.name:\n",
    "        datatype = gdal.GDT_UInt16\n",
    "    else:\n",
    "        datatype = gdal.GDT_Float32\n",
    "    if len(im_data.shape) == 3:\n",
    "        im_bands, im_height, im_width = im_data.shape\n",
    "    else:\n",
    "        im_bands, (im_height, im_width) = 1, im_data.shape\n",
    "    driver = gdal.GetDriverByName(\"GTiff\")\n",
    "    dataset = driver.Create(filename, im_width, im_height, im_bands, datatype)\n",
    "    dataset.SetGeoTransform(im_geotrans)\n",
    "    dataset.SetProjection(im_proj)\n",
    "    if im_bands == 1:\n",
    "        dataset.GetRasterBand(1).WriteArray(im_data)\n",
    "    else:\n",
    "        for i in range(im_bands):\n",
    "            dataset.GetRasterBand(i + 1).WriteArray(im_data[i])\n",
    "spei_path='//weili/User2/mxsun/CESS_230818/SPEI_highRes/'\n",
    "sm_path='//weili/User2/mxsun/CESS_230818/SPEI_highRes/RF/'\n",
    "soil_path='//weili/User2/mxsun/CESS_230818/SPEI_highRes/RF/'\n",
    "drv_path='//weili/User2/mxsun/CESS_230818/Pattern_drive/'"
   ]
  },
  {
   "cell_type": "code",
   "execution_count": 2,
   "id": "01cfc5bf",
   "metadata": {
    "ExecuteTime": {
     "end_time": "2024-06-17T06:29:06.547943Z",
     "start_time": "2024-06-17T06:29:01.113798Z"
    }
   },
   "outputs": [],
   "source": [
    "DEAA=read_img(spei_path+'SPEI_deaa001_240504.tif')[0]\n",
    "DAA=read_img(spei_path+'SPEI_daa001_240504.tif')[0]\n",
    "DEAA[DEAA==0]=np.nan\n",
    "DAA[DAA==0]=np.nan"
   ]
  },
  {
   "cell_type": "code",
   "execution_count": 4,
   "id": "d8a01600",
   "metadata": {
    "ExecuteTime": {
     "end_time": "2024-06-17T06:49:06.468928Z",
     "start_time": "2024-06-17T06:48:50.038779Z"
    }
   },
   "outputs": [],
   "source": [
    "pathin='//weili/User2/mxsun/CESS_230818/elephand_disturb/update230524/'\n",
    "csif12=read_img(pathin+'CSIF_yrMean_2012_afr001.tif')[0]\n",
    "csif13=read_img(pathin+'CSIF_yrMean_2013_afr001.tif')[0]\n",
    "csif14=read_img(pathin+'CSIF_yrMean_2014_afr001.tif')[0]\n",
    "csif15=read_img(pathin+'CSIF_yrMean_2015_afr001.tif')[0]\n",
    "csif16=read_img(pathin+'CSIF_yrMean_2016_afr001.tif')[0]\n",
    "\n",
    "ndvi12=read_img(pathin+'NDVI_yrMean_2012_afr001.tif')[0]\n",
    "ndvi13=read_img(pathin+'NDVI_yrMean_2013_afr001.tif')[0]\n",
    "ndvi14=read_img(pathin+'NDVI_yrMean_2014_afr001.tif')[0]\n",
    "ndvi15=read_img(pathin+'NDVI_yrMean_2015_afr001.tif')[0]\n",
    "ndvi16=read_img(pathin+'NDVI_yrMean_2016_afr001.tif')[0]\n",
    "#求Resistance\n",
    "ndvi12[ndvi12<0]=np.nan\n",
    "ndvi13[ndvi13<0]=np.nan\n",
    "ndvi14[ndvi14<0]=np.nan\n",
    "ndvi15[ndvi15<0]=np.nan\n",
    "ndvi16[ndvi16<0]=np.nan\n",
    "\n",
    "csif12[csif12<0]=np.nan\n",
    "csif13[csif13<0]=np.nan\n",
    "csif14[csif14<0]=np.nan\n",
    "csif15[csif15<0]=np.nan\n",
    "csif16[csif16<0]=np.nan"
   ]
  },
  {
   "cell_type": "code",
   "execution_count": 5,
   "id": "98b1c258",
   "metadata": {
    "ExecuteTime": {
     "end_time": "2024-06-17T06:51:51.172375Z",
     "start_time": "2024-06-17T06:51:49.488991Z"
    }
   },
   "outputs": [],
   "source": [
    "ndvi_dr=(ndvi15+ndvi16)/2\n",
    "ndvi_predr=(ndvi12+ndvi13+ndvi14)/3\n",
    "cisf_dr=(csif15+csif16)/2\n",
    "cisf_predr=(csif12+csif13+csif14)/3"
   ]
  },
  {
   "cell_type": "markdown",
   "id": "d76a54fd",
   "metadata": {},
   "source": [
    "## slide window"
   ]
  },
  {
   "cell_type": "code",
   "execution_count": 6,
   "id": "d02c2be8",
   "metadata": {
    "ExecuteTime": {
     "end_time": "2024-06-17T06:52:27.057233Z",
     "start_time": "2024-06-17T06:52:23.395679Z"
    }
   },
   "outputs": [
    {
     "name": "stdout",
     "output_type": "stream",
     "text": [
      "dem -9999 5438\n",
      "slope -3.402823e+38 79.12291\n"
     ]
    }
   ],
   "source": [
    "dem=read_img(spei_path+'gtopoDEM_afr_001.tif')[0]\n",
    "slope=read_img(spei_path+'gtopoSlope_afr_001.tif')[0]\n",
    "print('dem',dem.min(),dem.max())\n",
    "print('slope',slope.min(),slope.max())\n",
    "dem=dem.astype(np.float32)\n",
    "dem[dem==-9999]=np.nan\n",
    "slope[slope==0]=np.nan"
   ]
  },
  {
   "cell_type": "code",
   "execution_count": 7,
   "id": "4b46d942",
   "metadata": {
    "ExecuteTime": {
     "end_time": "2024-06-17T06:52:31.481635Z",
     "start_time": "2024-06-17T06:52:29.592717Z"
    }
   },
   "outputs": [
    {
     "data": {
      "text/plain": [
       "(1.0, 1.0)"
      ]
     },
     "execution_count": 7,
     "metadata": {},
     "output_type": "execute_result"
    }
   ],
   "source": [
    "#forest_mask=read_img(spei_path+'Africa_forest_area_240319.tif')[0]\n",
    "#forest_mask[forest_mask==0]=np.nan\n",
    "hfp = read_img(spei_path+'hfp2018_Afirca_001_230525.tif')[0]\n",
    "hfp[hfp<=15]=1\n",
    "hfp[hfp>1]=np.nan\n",
    "mask=hfp#*protec#forest_mask\n",
    "mask[~np.isnan(mask)]=1\n",
    "np.nanmin(mask),np.nanmax(mask)"
   ]
  },
  {
   "cell_type": "code",
   "execution_count": 12,
   "id": "bd19815b",
   "metadata": {
    "ExecuteTime": {
     "end_time": "2024-06-17T07:02:30.852879Z",
     "start_time": "2024-06-17T07:02:30.544799Z"
    },
    "code_folding": [
     7
    ]
   },
   "outputs": [
    {
     "data": {
      "text/plain": [
       "['Vegetation_DEAA_ndvi_dr_0.25deg_240617.npy',\n",
       " 'Vegetation_DEAA_cisf_dr_0.25deg_240617.npy',\n",
       " 'Vegetation_DEAA_dem_0.25deg_240617.npy',\n",
       " 'Vegetation_DEAA_slope_0.25deg_240617.npy',\n",
       " 'Vegetation_DAA_ndvi_dr_0.25deg_240617.npy',\n",
       " 'Vegetation_DAA_cisf_dr_0.25deg_240617.npy',\n",
       " 'Vegetation_DAA_dem_0.25deg_240617.npy',\n",
       " 'Vegetation_DAA_slope_0.25deg_240617.npy']"
      ]
     },
     "execution_count": 12,
     "metadata": {},
     "output_type": "execute_result"
    }
   ],
   "source": [
    "\"\"\"\n",
    "supply paired sites methods. \n",
    "Be notes the  suppled detail locates should be consistence with all factors.\n",
    "\"\"\"\n",
    "# current shape:(6500,7900)\n",
    "#0.01deg to 0.25 deg window size=625 pixels\n",
    "#6500/25,7900/25...(260,316)\n",
    "def slide_window_mean(s,dist,res):\n",
    "    #s: window size\n",
    "    #dist: disturb array\n",
    "    #res: resistance and resilience array\n",
    "    mean_arr=np.zeros((260,316))\n",
    "    weight_arr=np.zeros((260,316))\n",
    "    loc=np.zeros((260,316)) #record the location of supplied sites\n",
    "    sl=np.ones((25,25))\n",
    "    for i in range(260):\n",
    "        #print(\"sliding\", i, \"line...\")\n",
    "        for j in range(316):\n",
    "            bloc_dist=dist[i*s:(i+1)*s,j*s:(j+1)*s]\n",
    "            res_dist=res[i*s:(i+1)*s,j*s:(j+1)*s]\n",
    "            res_mask=np.multiply(bloc_dist,res_dist)#product restance array controled by window\n",
    "            count=np.count_nonzero(~np.isnan(res_mask))\n",
    "            weight=count/625#calculate the weight\n",
    "            if weight>0.05:\n",
    "                weight_arr[i,j]=weight\n",
    "                dt=np.where(res_mask!=np.nan,res_mask,np.nan)\n",
    "                mean_arr[i,j]=np.nanmean(res_mask)#calculate the mean value\n",
    "                loc[i,j]=9\n",
    "            else:\n",
    "                bloc_dist_a=[] #should be 8 nums [-1,0],[0,-1],[-1,-1],[1,0],[0,1],[1,1],[-1,1],[1,-1]\n",
    "                res_dist_a=[] #should be 8 nums\n",
    "                res_mask_pool=[]\n",
    "                weight_pool=[]\n",
    "                for m in [-1,1]:\n",
    "                    bloc_dist_a.append(dist[(i+m)*s:((i+m)+1)*s,j*s:(j+1)*s])\n",
    "                    bloc_dist_a.append(dist[i*s:(i+1)*s,(j+m)*s:((j+m)+1)*s])\n",
    "                    bloc_dist_a.append(dist[(i+m)*s:((i+m)+1)*s,(j+m)*s:((j+m)+1)*s])\n",
    "                    res_dist_a.append(res[(i+m)*s:((i+m)+1)*s,j*s:(j+1)*s])\n",
    "                    res_dist_a.append(res[i*s:(i+1)*s,(j+m)*s:((j+m)+1)*s])\n",
    "                    res_dist_a.append(res[(i+m)*s:((i+m)+1)*s,(j+m)*s:((j+m)+1)*s])\n",
    "                bloc_dist_a.append(dist[(i-1)*s:((i-1)+1)*s,(j+1)*s:((j+1)+1)*s])\n",
    "                bloc_dist_a.append(dist[(i+1)*s:((i+1)+1)*s,(j-1)*s:((j-1)+1)*s])\n",
    "                res_dist_a.append(res[(i-1)*s:((i-1)+1)*s,(j+1)*s:((j+1)+1)*s])\n",
    "                res_dist_a.append(res[(i+1)*s:((i+1)+1)*s,(j-1)*s:((j-1)+1)*s])\n",
    "                #the smooth order of a 9 value array is [-1,0],[0,-1],[-1,-1],[1,0],[0,1],[1,1],[-1,1],[1,-1]\n",
    "                for n in range(len(bloc_dist_a)): #the length is 8\n",
    "                    res_mask_pool.append(np.multiply(bloc_dist_a[n],res_dist_a[n]))\n",
    "                    weight_pool.append(np.count_nonzero(~np.isnan(res_mask_pool[n]))/625)#calculate the weight\n",
    "                key=np.argmax(weight_pool) \n",
    "                # Key used to loc the supplied direction, the key-value consistience with [-1,0],[0,-1],[-1,-1],[1,0],[0,1],[1,1],[-1,1],[1,-1]\n",
    "                if weight_pool[key] > 0.05:\n",
    "                    weight_arr[i,j]=weight_pool[key]\n",
    "                    dt1=np.where(res_mask_pool[key]!=np.nan,res_mask_pool[key],np.nan)\n",
    "                    mean_arr[i,j]=np.nanmean(dt1)#calculate the mean value\n",
    "                    loc[i,j]=key+1\n",
    "                else:\n",
    "                    mean_arr[i,j]=np.nan#calculate the mean value\n",
    "                    loc[i,j]=np.nan\n",
    "    return mean_arr\n",
    "\n",
    "dist_pool=[DEAA*mask,DAA*mask]\n",
    "res_pool=[ndvi_dr,cisf_dr,dem,slope] #protect need conver to fraction\n",
    "dist_name=['DEAA','DAA']\n",
    "res_name=['ndvi_dr','cisf_dr','dem','slope']\n",
    "# protect 最后直接加上去\n",
    "aa=[]\n",
    "aa_name=[]\n",
    "for i in range(2):\n",
    "    for j in range(4):\n",
    "        el=[25,dist_pool[i],res_pool[j]]\n",
    "        aa.append(el)\n",
    "        aa_name.append('Vegetation_{}_{}_0.25deg_240617.npy'.format(dist_name[i],res_name[j]))\n",
    "aa_name"
   ]
  },
  {
   "cell_type": "code",
   "execution_count": 13,
   "id": "90241d7f",
   "metadata": {
    "ExecuteTime": {
     "end_time": "2024-06-17T07:04:00.019686Z",
     "start_time": "2024-06-17T07:02:32.835757Z"
    }
   },
   "outputs": [
    {
     "name": "stdout",
     "output_type": "stream",
     "text": [
      "执行任务0 (13972)...\n",
      "执行任务1 (13972)...\n",
      "执行任务2 (13972)...\n",
      "执行任务3 (13972)...\n",
      "执行任务4 (13972)...\n",
      "执行任务5 (13972)...\n",
      "执行任务6 (13972)...\n",
      "执行任务7 (13972)...\n"
     ]
    }
   ],
   "source": [
    "for i in range(8):\n",
    "    print('执行任务%s (%s)...' % (i, os.getpid()))\n",
    "    kk=slide_window_mean(aa[i][0],aa[i][1],aa[i][2])\n",
    "    np.save(spei_path+aa_name[i],kk)"
   ]
  },
  {
   "cell_type": "markdown",
   "id": "18c549e7",
   "metadata": {
    "ExecuteTime": {
     "end_time": "2024-06-17T06:55:44.647944Z",
     "start_time": "2024-06-17T06:55:44.635921Z"
    }
   },
   "source": [
    "## 成对样点求Δ"
   ]
  },
  {
   "cell_type": "code",
   "execution_count": 14,
   "id": "7805adda",
   "metadata": {
    "ExecuteTime": {
     "end_time": "2024-06-17T07:04:04.118483Z",
     "start_time": "2024-06-17T07:04:04.019032Z"
    }
   },
   "outputs": [],
   "source": [
    "######################mask DEM and Slope############################\n",
    "# check the Δ dem and Δ slope distribution\n",
    "dem1=np.load(spei_path+'Vegetation_DEAA_dem_0.25deg_240617.npy',allow_pickle=True)\n",
    "dem2=np.load(spei_path+'Vegetation_DAA_dem_0.25deg_240617.npy',allow_pickle=True)\n",
    "dem_differ=dem1-dem2\n",
    "\n",
    "slo1=np.load(spei_path+'Vegetation_DEAA_slope_0.25deg_240617.npy',allow_pickle=True)\n",
    "slo2=np.load(spei_path+'Vegetation_DAA_slope_0.25deg_240617.npy',allow_pickle=True)\n",
    "slo_differ=slo1-slo2\n",
    "\n",
    "dem_differ[dem_differ<-200]=np.nan\n",
    "dem_differ[dem_differ>200]=np.nan\n",
    "dem_differ[~np.isnan(dem_differ)]=1\n",
    "slo_differ[slo_differ<-10]=np.nan\n",
    "slo_differ[slo_differ>10]=np.nan\n",
    "slo_differ[~np.isnan(slo_differ)]=1\n",
    "# 每一层数据位置对应,建立mask\n",
    "dd_mask=np.ones((260,316))*dem_differ*slo_differ"
   ]
  },
  {
   "cell_type": "code",
   "execution_count": 18,
   "id": "6e39b3ee",
   "metadata": {
    "ExecuteTime": {
     "end_time": "2024-06-17T07:06:58.085992Z",
     "start_time": "2024-06-17T07:06:57.979192Z"
    }
   },
   "outputs": [
    {
     "data": {
      "text/plain": [
       "(0.027545300293898345, 0.04527886852060257)"
      ]
     },
     "execution_count": 18,
     "metadata": {},
     "output_type": "execute_result"
    }
   ],
   "source": [
    "res_name=['ndvi_dr','cisf_dr']\n",
    "delta=[]\n",
    "for i in range(2):\n",
    "    f1=np.load(spei_path+'Vegetation_DEAA_{}_0.25deg_240617.npy'.format(res_name[i]),allow_pickle=True)*dd_mask\n",
    "    f2=np.load(spei_path+'Vegetation_DAA_{}_0.25deg_240617.npy'.format(res_name[i]),allow_pickle=True)*dd_mask\n",
    "    ff=(f1-f2)/f2\n",
    "    delta.append(ff)\n",
    "np.nanmean(delta[0]),np.nanmean(delta[1])#,relative_delta"
   ]
  },
  {
   "cell_type": "code",
   "execution_count": 20,
   "id": "e1f79523",
   "metadata": {
    "ExecuteTime": {
     "end_time": "2024-06-17T07:10:17.362301Z",
     "start_time": "2024-06-17T07:10:17.342210Z"
    }
   },
   "outputs": [
    {
     "data": {
      "text/plain": [
       "[0.0021454265885783824, 0.004156559485303399]"
      ]
     },
     "execution_count": 20,
     "metadata": {},
     "output_type": "execute_result"
    }
   ],
   "source": [
    "def kill_nan(dt):\n",
    "    a=dt.ravel()\n",
    "    a=a[~np.isnan(a)]\n",
    "    a=list(a)\n",
    "    return a\n",
    "se=[]\n",
    "for i in range(2):\n",
    "    se.append(stats.sem(kill_nan(delta[i])))\n",
    "se"
   ]
  },
  {
   "cell_type": "code",
   "execution_count": null,
   "id": "f40dd11c",
   "metadata": {},
   "outputs": [],
   "source": []
  }
 ],
 "metadata": {
  "kernelspec": {
   "display_name": "Python 3 (ipykernel)",
   "language": "python",
   "name": "python3"
  },
  "language_info": {
   "codemirror_mode": {
    "name": "ipython",
    "version": 3
   },
   "file_extension": ".py",
   "mimetype": "text/x-python",
   "name": "python",
   "nbconvert_exporter": "python",
   "pygments_lexer": "ipython3",
   "version": "3.10.6"
  },
  "toc": {
   "base_numbering": 1,
   "nav_menu": {},
   "number_sections": true,
   "sideBar": true,
   "skip_h1_title": false,
   "title_cell": "Table of Contents",
   "title_sidebar": "Contents",
   "toc_cell": false,
   "toc_position": {},
   "toc_section_display": true,
   "toc_window_display": false
  },
  "varInspector": {
   "cols": {
    "lenName": 16,
    "lenType": 16,
    "lenVar": 40
   },
   "kernels_config": {
    "python": {
     "delete_cmd_postfix": "",
     "delete_cmd_prefix": "del ",
     "library": "var_list.py",
     "varRefreshCmd": "print(var_dic_list())"
    },
    "r": {
     "delete_cmd_postfix": ") ",
     "delete_cmd_prefix": "rm(",
     "library": "var_list.r",
     "varRefreshCmd": "cat(var_dic_list()) "
    }
   },
   "types_to_exclude": [
    "module",
    "function",
    "builtin_function_or_method",
    "instance",
    "_Feature"
   ],
   "window_display": false
  }
 },
 "nbformat": 4,
 "nbformat_minor": 5
}
